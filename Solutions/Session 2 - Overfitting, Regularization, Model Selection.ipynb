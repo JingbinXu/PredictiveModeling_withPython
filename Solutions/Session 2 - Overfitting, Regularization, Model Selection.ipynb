{
 "cells": [
  {
   "cell_type": "code",
   "execution_count": 1,
   "metadata": {
    "collapsed": false
   },
   "outputs": [
    {
     "data": {
      "text/html": [
       "<img src=\"http://datascience.uci.edu/wp-content/uploads/sites/2/2014/09/data_science_logo_with_image1.png\"/>"
      ],
      "text/plain": [
       "<IPython.core.display.Image object>"
      ]
     },
     "execution_count": 1,
     "metadata": {},
     "output_type": "execute_result"
    }
   ],
   "source": [
    "import numpy as np\n",
    "import pandas as pd\n",
    "from IPython.display import Image\n",
    "import matplotlib.pyplot as plt\n",
    "%matplotlib inline\n",
    "Image(url='http://datascience.uci.edu/wp-content/uploads/sites/2/2014/09/data_science_logo_with_image1.png')"
   ]
  },
  {
   "cell_type": "markdown",
   "metadata": {},
   "source": [
    "## Predictive Modeling with Python - Overfitting, Regularization, Model Selection\n",
    "#### Author: Kevin Bache\n",
    "#### Modified by: Preston Hinkle"
   ]
  },
  {
   "cell_type": "markdown",
   "metadata": {},
   "source": [
    "## Before Lunch:\n",
    "We created a linear model and saw that it performed well on already seen data but poorly on unseen data.\n",
    "\n",
    "\n",
    "This session is about creating models that *generalize* to new data."
   ]
  },
  {
   "cell_type": "markdown",
   "metadata": {},
   "source": [
    "## Cross validation\n",
    "\n",
    "\n",
    "What we saw above is a common setup.  We have $\\mathbf{X}$ and $\\mathbf{y}$ data from the past and $\\mathbf{X}$ data for the present for which we want to **predict** the future $\\mathbf{y}$ values.\n",
    "\n",
    "We can generalize this notion of past/present data into what's generally called *train* and *test* data.\n",
    "\n",
    "* **Training Data** -- A dataset that we use to train our model.  We have both $\\mathbf{X}$ and $\\mathbf{y}$\n",
    "\n",
    "* **Testing Data** -- The data set for which we are trying to predict the correct outputs $y$ on; note that we may or may not have the true values!\n",
    "\n",
    "\\*\\* **Never optimize a model based on predictions of the testing set; it is there for prediction alone!.** \\*\\*\n",
    "\n",
    "If it helps, pretend that we do not know the correct $y$s in the testing set; in practice, we do not have the test $y$s.\n",
    "\n",
    "The method of training a model on one subset of data and testing it on another is known as **cross-validation**."
   ]
  },
  {
   "cell_type": "markdown",
   "metadata": {
    "collapsed": true
   },
   "source": [
    "## Two important concepts in machine learning:\n",
    "### <span style=\"color:green\">**1) A predictive model is only as good as its predictions on unseen data **</span>\n",
    "\n",
    "### <span style=\"color:green\">**2) Error on the dataset we trained on is not a good predictor of error on future data**</span>\n",
    "\n",
    "- Why? Because when we train models we tend to *overfit* the training data set."
   ]
  },
  {
   "cell_type": "markdown",
   "metadata": {},
   "source": [
    "### Overfitting in One Picture"
   ]
  },
  {
   "cell_type": "code",
   "execution_count": 2,
   "metadata": {
    "collapsed": false,
    "scrolled": true
   },
   "outputs": [
    {
     "data": {
      "text/html": [
       "<img src=\"http://radimrehurek.com/data_science_python/plot_bias_variance_examples_2.png\"/>"
      ],
      "text/plain": [
       "<IPython.core.display.Image object>"
      ]
     },
     "execution_count": 2,
     "metadata": {},
     "output_type": "execute_result"
    }
   ],
   "source": [
    "Image(url='http://radimrehurek.com/data_science_python/plot_bias_variance_examples_2.png')"
   ]
  },
  {
   "cell_type": "markdown",
   "metadata": {},
   "source": [
    "### Model description:\n",
    "- d = 1: Two parameters: $y = \\theta_{0} + \\theta_{1}x_{1}$ (intercept + linear term)\n",
    "- d = 2: Three parameters: $y = \\theta_{0} + \\theta_{1}x_{1} + \\theta_{2}x_{2}^{2}$ (intercept + linear term + quadratic term)\n",
    "- d = 6: Seven parameters: $y = \\theta_{0} + \\theta_{1}x_{1} + ... + \\theta_{6}x^{6}$ (intercept + linear term + ... ) a 6th degree polynomial!"
   ]
  },
  {
   "cell_type": "markdown",
   "metadata": {},
   "source": [
    "### Questions:\n",
    "- Which of the above 3 models has the least error?\n",
    "- Which do you think is the best model?"
   ]
  },
  {
   "cell_type": "markdown",
   "metadata": {},
   "source": [
    "## How to Fight Overfitting?\n",
    "\n",
    "Obviously overfitting weakens our model's predictive power for new data, but how do we prevent it?\n",
    "\n",
    "There are two linked strategies to accomplish this: **regularization** and **model selection**."
   ]
  },
  {
   "cell_type": "markdown",
   "metadata": {},
   "source": [
    "## Regularization\n",
    "The idea in regularization is that we're going to modify our loss function to penalize it for being too complex. Simple models tend to perform better on new data.\n",
    "\n",
    "One way to do this is to try to keep our regression coefficients small. Why would we want to do this? One intuitive explanation is that if we have big regression coefficients we'll get large changes in the predicted values from small changes in input value. This led to the erratic behavior of the 6th degree polynomial fit to the data in the above plot. Intuitively, our predictions should vary smoothly with the data.\n",
    "\n",
    "So a model with smaller coefficients makes smoother predictions.  It is simpler, which means it will have a harder time overfitting. \n",
    "\n",
    "We can change our linear regression loss function to help us reduce overfitting:\n",
    "\n",
    "### Linear Regression Loss Function\n",
    "\\begin{eqnarray*}\n",
    "    Loss(\\beta) = MSE &=& \\frac{1}{N} \\sum_{i=1}^{N} (y_i - \\hat y_i)^2 \\\\\n",
    "    &=& \\frac{1}{N} \\sum_{i=1}^{N} (y_i - x_i^T\\beta)^2 \\\\   \n",
    "\\end{eqnarray*}\n",
    "\n",
    "### Linear Regression Loss Function __with Regularization__\n",
    "\\begin{eqnarray*}\n",
    "    Loss(\\beta) &=& \\frac{1}{N} \\sum_{i=1}^{N} (y_i - x_i^T\\beta)^2 + \\alpha ||\\beta||_2^2\\\\\n",
    "    &=& \\frac{1}{N} \\sum_{i=1}^{N} (y_i - x_i^T\\beta)^2 + \\alpha \\beta^T \\beta\\\\\n",
    "    &=& \\frac{1}{N} \\sum_{i=1}^{N} (y_i - x_i^T\\beta)^2 + \\alpha \\sum_{d=1}^D \\beta_d^2\\\\\n",
    "\\end{eqnarray*}\n",
    "\n",
    "**Important:** $\\alpha$ is known as the regularization hyperparameter, and it determines how strongly we wish to penalize large parameter values $\\beta$."
   ]
  },
  {
   "cell_type": "markdown",
   "metadata": {},
   "source": [
    "**By the way, there are many types of regularization that can be used; we chose something called 'Ridge Regression' which uses the L$^{2}$ norm (sum of squares).**\n",
    "\n",
    "We won't get into details, but a ridge regression model can be optimized in much the same way as an unregularized linear regression: either with using some form of gradient descent or matrix-based solutions. "
   ]
  },
  {
   "cell_type": "markdown",
   "metadata": {},
   "source": [
    "### <span style=\"color:red\">Understanding the effects of the regularization term</span>\n",
    "1. Partner up.  On one computer:\n",
    "  0. Construct the 'mean_squared_error' function, which calculates the average squared-distance of the predicted y-values $\\hat{y}$ and the actual y-values $y$ (see MSE above for the formula). You will be using this function throughout the rest of this session, so make sure  it is correct!\n",
    "  1. Create two linear models in scikitlearn, an unregularized `LinearRegression` model, and a regularized `Ridge` model with regularization parameter $\\alpha$ = 1. e.g., `model_ridge = Ridge(alpha = 1)`\n",
    "  2. *Train* both models on the training data set loaded below, e.g., `model.fit(x_train, y_train)`\n",
    "  3. *Predict* the output values $y$ for the training and test data set using both of the trained models, e.g., `model.predict(x)`\n",
    "  4. Calculate the mean squared error of the predictions $\\hat{y}$ for the training and test sets using the function defined below\n",
    "  5. For each model, calculate the norm (square-root of sum of squared elements) $\\|\\beta\\|=\\sqrt{\\sum_{i}\\beta_{i}^{2}}$\n",
    "      - Hints:\n",
    "          - `model.coef_` returns a list of the coefficients (list of $\\beta$s) of `model`\n",
    "          - The exponentiation operation (number\\**exponent) can act directly on numpy arrays to square each of their elements\n",
    "          - `np.sum()` returns the sum of all elements in an array. Combine this with the previous hint to easily calculate the parameter vector norm $\\|\\boldsymbol{\\beta}\\|$\n",
    "\n",
    "2. Inspect the training error, test error, and the sums of coefficients for the training and test models.\n",
    "3. Discuss; what impact did the regularization term have on our model's determined coefficients and its performance?"
   ]
  },
  {
   "cell_type": "markdown",
   "metadata": {
    "collapsed": false
   },
   "source": [
    "##### Mean squared error calculation"
   ]
  },
  {
   "cell_type": "code",
   "execution_count": 11,
   "metadata": {
    "collapsed": true
   },
   "outputs": [],
   "source": [
    "######################################################\n",
    "# Insert solution below!\n",
    "######################################################\n",
    "\n",
    "from sklearn.linear_model import LinearRegression, Ridge\n",
    "\n",
    "def mean_squared_error(y_true, y_pred):\n",
    "    \"\"\"\n",
    "    calculate the mean_squared_error given a vector of true ys and a vector of predicted ys\n",
    "    \"\"\"\n",
    "    diff = y_true - y_pred\n",
    "    return np.dot(diff, diff) / len(diff)"
   ]
  },
  {
   "cell_type": "markdown",
   "metadata": {},
   "source": [
    "##### Load the data"
   ]
  },
  {
   "cell_type": "code",
   "execution_count": 12,
   "metadata": {
    "collapsed": false
   },
   "outputs": [],
   "source": [
    "######################################################\n",
    "# Don't change this!\n",
    "######################################################\n",
    "\n",
    "# load overfitting data\n",
    "with np.load('data/overfitting_data.npz') as data:\n",
    "    x_train = data['x_train']\n",
    "    y_train = data['y_train']\n",
    "    x_test = data['x_test']\n",
    "    y_test = data['y_test']"
   ]
  },
  {
   "cell_type": "markdown",
   "metadata": {},
   "source": [
    "##### Training and testing a regularized model"
   ]
  },
  {
   "cell_type": "code",
   "execution_count": 15,
   "metadata": {
    "collapsed": false
   },
   "outputs": [
    {
     "name": "stdout",
     "output_type": "stream",
     "text": [
      "LinearRegression():\n",
      "\tMean-squared error 283.527287922\n",
      "\tCoefficients: 310.131289395\n",
      "\n",
      "Ridge(alpha = 1):\n",
      "\tMean-squared error 9.56415606837\n",
      "\tCoefficients: 22.1904551019\n"
     ]
    }
   ],
   "source": [
    "######################################################\n",
    "# Insert solution below!\n",
    "######################################################\n",
    "\n",
    "\n",
    "model_lr = LinearRegression()\n",
    "model_lr.fit(x_train, y_train)\n",
    "y_pred = model_lr.predict(x_test)\n",
    "\n",
    "print('LinearRegression():')\n",
    "print('\\tMean-squared error', mean_squared_error(y_test, y_pred))\n",
    "print('\\tCoefficients:', np.sum((model_lr.coef_)**2.))\n",
    "print()\n",
    "\n",
    "model_ridge = Ridge(alpha = 1)\n",
    "model_ridge.fit(x_train, y_train)\n",
    "y_pred = model_ridge.predict(x_test)\n",
    "\n",
    "print('Ridge(alpha = 1):')\n",
    "print('\\tMean-squared error', mean_squared_error(y_test, y_pred))\n",
    "print('\\tCoefficients:', np.sum((model_ridge.coef_)**2.))"
   ]
  },
  {
   "cell_type": "markdown",
   "metadata": {},
   "source": [
    "### Regularization is awesome!\n",
    "\n",
    "If the above steps were completed correctly, then you should have created and trained a *regularized* model that had less error on the test set than the *unregularized* model. Great job!\n",
    "\n",
    "This method is clearly very powerful, but it raises some questions..."
   ]
  },
  {
   "cell_type": "markdown",
   "metadata": {},
   "source": [
    "### Model selection\n",
    "\n",
    "- How do we choose $\\alpha$? Setting $\\alpha=1$ improved upon the unregularized model, but the value was arbitrarily chosen---surely we can make do better.\n",
    "\n",
    "- One option is to try a range of $\\alpha$ values and select the one that yields the least error. But, remember: ** we are *not* allowed to optimize our model based on the test set!** This restriction extends to hyperparameters such as $\\alpha$!\n",
    "\n",
    "- So what do we do? We need a way of validating $\\alpha$ choices, but we aren't allowed to use performance on the test data to make this decision...\n",
    "\n",
    "- Solution: Partition the *training data* into two new sets, a new *training dataset* and a *validation dataset*; select the model which yields the least error on validation predictions\n",
    "\n",
    "- This method is known as **model selection**\n",
    "\n",
    "- Let's see what this looks like in action:\n",
    "\n",
    "\n",
    "### <span style=\"color:red\">Exercise: Choosing the optimal hyperparameter value $\\alpha$ with cross-validation</set>\n",
    "1. Partner up. On one computer:\n",
    "  1. Partition the training data set into a new training set and a validation set (this is done for you, just run the cell below)\n",
    "  2. Train 12 models with regularization parameters $\\alpha$ in {0, 1, 2, 4, 8, ..., 512, 1024}\n",
    "  3. Calculate the training error, validation error, test error, and the magnitude of the coefficient vectors for each model. \n",
    "  4. **Store the values in lists named as follows:**\n",
    "    - 'train_errors'\n",
    "    - 'validation_errors'\n",
    "    - 'test_errors'\n",
    "    - 'coef_mags'\n",
    "    \n",
    "   - **Hints: **\n",
    "    - We can train a non-regularized Linear Regression model using Ridge(alpha = 0); no need to distinguish between Ridge(alpha = 0) and LinearRegression()\n",
    "    - Lists and list comprehension are *very* useful here.\n",
    "        - Create a `list` of all the alpha values, called alphas: `alphas=[0, 1, 2, ..., 1024]`\n",
    "        - Create a `list` of models like so: `models=[linear_model.Ridge(alpha) for alpha in alphas]`\n",
    "        - Iterate over every model in a `for` loop, calculating the errors and coefficients and appending them to their respective\n",
    " \n",
    "2. Inspect the relationship between $\\alpha$ and the train error, validation error, test error, and coefficient magnitudes. Describe what is happening to each as $\\alpha$ is dialed up.\n",
    "\n",
    "3. Which $\\alpha$ value works best?"
   ]
  },
  {
   "cell_type": "markdown",
   "metadata": {},
   "source": [
    "##### Load data, create train and validation splits"
   ]
  },
  {
   "cell_type": "code",
   "execution_count": 27,
   "metadata": {
    "collapsed": false
   },
   "outputs": [],
   "source": [
    "######################################################\n",
    "# Don't change this!\n",
    "######################################################\n",
    "\n",
    "# load overfitting data into 'train' and 'test' sets\n",
    "with np.load('data/overfitting_data.npz') as data:\n",
    "    x_train = data['x_train']\n",
    "    y_train = data['y_train']\n",
    "    x_test = data['x_test']\n",
    "    y_test = data['y_test']\n",
    "\n",
    "# split the 'train' set into 'train' and 'validation' sets\n",
    "from sklearn.cross_validation import train_test_split\n",
    "validation_portion = 0.1\n",
    "seed = 1\n",
    "x_train, x_valid, y_train, y_valid = \\\n",
    "    train_test_split(x_train, y_train, test_size=validation_portion, random_state=seed)"
   ]
  },
  {
   "cell_type": "markdown",
   "metadata": {},
   "source": [
    "##### Train, test models with varying alpha"
   ]
  },
  {
   "cell_type": "code",
   "execution_count": 30,
   "metadata": {
    "collapsed": false
   },
   "outputs": [
    {
     "name": "stderr",
     "output_type": "stream",
     "text": [
      "/home/prestonh/anaconda3/lib/python3.5/site-packages/sklearn/linear_model/ridge.py:154: UserWarning: Singular matrix in solving dual problem. Using least-squares solution instead.\n",
      "  warnings.warn(\"Singular matrix in solving dual problem. Using \"\n"
     ]
    },
    {
     "name": "stdout",
     "output_type": "stream",
     "text": [
      "training errors:\n",
      "alpha =  0 \t 0.0\n",
      "alpha =  1 \t 0.002\n",
      "alpha =  2 \t 0.004\n",
      "alpha =  4 \t 0.011\n",
      "alpha =  8 \t 0.026\n",
      "alpha =  16 \t 0.057\n",
      "alpha =  32 \t 0.123\n",
      "alpha =  64 \t 0.267\n",
      "alpha =  128 \t 0.581\n",
      "alpha =  256 \t 1.235\n",
      "alpha =  512 \t 2.455\n",
      "alpha =  1024 \t 4.383\n",
      "\n",
      "validation errors:\n",
      "alpha =  0 \t 11.704\n",
      "alpha =  1 \t 10.19\n",
      "alpha =  2 \t 9.326\n",
      "alpha =  4 \t 8.335\n",
      "alpha =  8 \t 7.392\n",
      "alpha =  16 \t 6.639\n",
      "alpha =  32 \t 6.133\n",
      "alpha =  64 \t 5.887\n",
      "alpha =  128 \t 5.92\n",
      "alpha =  256 \t 6.303\n",
      "alpha =  512 \t 7.146\n",
      "alpha =  1024 \t 8.493\n",
      "\n",
      "test errors:\n",
      "alpha =  0 \t 9.026\n",
      "alpha =  1 \t 7.708\n",
      "alpha =  2 \t 7.011\n",
      "alpha =  4 \t 6.287\n",
      "alpha =  8 \t 5.708\n",
      "alpha =  16 \t 5.384\n",
      "alpha =  32 \t 5.351\n",
      "alpha =  64 \t 5.638\n",
      "alpha =  128 \t 6.299\n",
      "alpha =  256 \t 7.39\n",
      "alpha =  512 \t 8.913\n",
      "alpha =  1024 \t 10.73\n",
      "\n",
      "coefficients:\n",
      "alpha =  0 \t 61.895\n",
      "alpha =  1 \t 56.393\n",
      "alpha =  2 \t 53.092\n",
      "alpha =  4 \t 49.258\n",
      "alpha =  8 \t 45.597\n",
      "alpha =  16 \t 42.351\n",
      "alpha =  32 \t 39.239\n",
      "alpha =  64 \t 36.191\n",
      "alpha =  128 \t 32.937\n",
      "alpha =  256 \t 29.006\n",
      "alpha =  512 \t 24.033\n",
      "alpha =  1024 \t 18.386\n"
     ]
    }
   ],
   "source": [
    "######################################################\n",
    "# Insert solution below!\n",
    "######################################################\n",
    "\n",
    "alphas = [0]+[2**i for i in range(0,11)]\n",
    "\n",
    "models = [Ridge(alpha) for alpha in alphas]\n",
    "\n",
    "\n",
    "train_errors = []\n",
    "valid_errors = []\n",
    "test_errors = []\n",
    "coef_mags = []\n",
    "\n",
    "for model in models:\n",
    "    \n",
    "    # Fit the model to the training data\n",
    "    model.fit(x_train, y_train)\n",
    "    \n",
    "    # Predict the outputs y for the training, validation, and test data\n",
    "    y_train_pred = model.predict(x_train)\n",
    "    y_valid_pred = model.predict(x_valid)\n",
    "    y_test_pred = model.predict(x_test)\n",
    "    \n",
    "    # Calculate the mean-squared error of each set of predictions, and append to the appropriate lists\n",
    "    train_errors.append(mean_squared_error(y_train, y_train_pred))\n",
    "    valid_errors.append(mean_squared_error(y_valid, y_valid_pred))\n",
    "    test_errors.append(mean_squared_error(y_test, y_test_pred))\n",
    "    \n",
    "    # Calculate the norm of the coefficient vector and append to list\n",
    "    coef_mags.append(np.sum(np.abs(model.coef_)))\n",
    "    \n",
    "print('training errors:')\n",
    "for i, model in enumerate(models):\n",
    "    print('alpha = ', alphas[i], '\\t', round(train_errors[i],3))\n",
    "    \n",
    "print('\\nvalidation errors:')\n",
    "for i, model in enumerate(models):\n",
    "    print('alpha = ', alphas[i], '\\t', round(valid_errors[i],3))\n",
    "    \n",
    "print('\\ntest errors:')\n",
    "for i, model in enumerate(models):\n",
    "    print('alpha = ', alphas[i], '\\t', round(test_errors[i],3))\n",
    "    \n",
    "print('\\ncoefficients:')\n",
    "for i, model in enumerate(models):\n",
    "    print('alpha = ', alphas[i], '\\t', round(coef_mags[i],3))"
   ]
  },
  {
   "cell_type": "markdown",
   "metadata": {},
   "source": [
    "### Now, let's plot the results!\n",
    "- *psst* did you put the values in lists with names as described above? Re-read the instructions above if the following doesn't evaluate!"
   ]
  },
  {
   "cell_type": "code",
   "execution_count": 36,
   "metadata": {
    "collapsed": false
   },
   "outputs": [
    {
     "data": {
      "image/png": "[encoded data removed]",
      "text/plain": [
       "<matplotlib.figure.Figure at 0x7f49b02fba90>"
      ]
     },
     "metadata": {},
     "output_type": "display_data"
    }
   ],
   "source": [
    "#### # Don't change this!\n",
    "######################################################\n",
    "\n",
    "# Set up figure\n",
    "fig, axes = plt.subplots(1, 2, figsize = (16,6))\n",
    "\n",
    "# First plot\n",
    "plt.sca(axes[0])\n",
    "\n",
    "plt.semilogx(alphas[1:], train_errors[1:], lw = 3, label = 'Train', color = 'k', marker = 'o', markersize = 10)\n",
    "plt.semilogx(alphas[1:], valid_errors[1:], lw = 3, label = 'Validation', color = 'k', ls = '--', marker = 'o', markersize = 10, zorder = 3)\n",
    "plt.semilogx(alphas[1:], test_errors[1:], lw = 3, label = 'Test', color = 'k', ls = ':', marker = 'o', markersize = 10, zorder = 2)\n",
    "\n",
    "# Minimum scatter point\n",
    "plt.scatter(alphas[1+np.argsort(np.array(valid_errors[1:]))[0]], min(valid_errors), color = 'red', marker = 'o', s = 100, zorder = 4, label = r'Optimum $\\alpha$')\n",
    "\n",
    "plt.xlim(.5, 2056)\n",
    "plt.ylim(-.05,13)\n",
    "\n",
    "plt.title('Train, validation, and test errors', size = 24)\n",
    "plt.xlabel(r'Regularization parameter $\\alpha$', size = 22)\n",
    "plt.ylabel(r'Mean square error', size = 22)\n",
    "\n",
    "plt.legend(fontsize = 18, loc = 'upper left', numpoints=1, scatterpoints=1)\n",
    "plt.grid()\n",
    "plt.tick_params(labelsize = 18)\n",
    "\n",
    "# Second plot\n",
    "plt.sca(axes[1])\n",
    "plt.semilogx(alphas[1:], coef_mags[1:], lw = 3, color = 'k', marker = 'o', markersize = 10)\n",
    "plt.xlim(.5, 2056)\n",
    "\n",
    "\n",
    "plt.title('Total parameter magnitude', size = 24)\n",
    "plt.xlabel(r'Regularization parameter $\\alpha$', size = 22)\n",
    "plt.ylabel(r'Parameter magnitude $\\sum_{i}|\\beta_{i}|$', size = 22)\n",
    "\n",
    "plt.grid()\n",
    "plt.tick_params(labelsize = 18)\n",
    "\n",
    "\n",
    "\n",
    "# Save, show\n",
    "plt.savefig('../figures/session_2/alpha_significance.png')\n",
    "plt.show()"
   ]
  },
  {
   "cell_type": "markdown",
   "metadata": {},
   "source": [
    "### Discuss the above plots\n",
    "- Some questions to think about:\n",
    "    - What happens to the training error as we dial up $\\alpha$?\n",
    "    - The optimum value of $\\alpha$ is given by the location of the minimum in the validation curve. Are models to the left overfit or underfit? to the right?\n",
    "    - How is the right plot explained in terms of the Ridge loss function?\n",
    "$$Loss\\left(\\beta\\right)=\\frac{1}{N} \\sum_{i=1}^{N} (y_i - x_i^T\\beta)^2 + \\alpha \\sum_{d=1}^D \\beta_d^2$$"
   ]
  },
  {
   "cell_type": "markdown",
   "metadata": {},
   "source": [
    "## Cross validation\n",
    "\n",
    "- Using regularization with varying values of the *hyperparameter* $\\alpha$ above gave us a good way of selecting which $\\alpha$ to choose in our final model\n",
    "- However, the mean squared test error from $\\alpha$ is *still* not the best estimator of the error on new data!\n",
    "- Why? We overfit our regularization parameter $\\alpha$ to the validation set!\n",
    "- Remember, we calculated the validation error for each $\\alpha$ and choose the $\\alpha$ which minimized that error; if the validation data had been *slightly* different, we might have chosen a different optimal value of $\\alpha$\n",
    "- Consider the following plot, which shows error vs. alpha calculated for two validation sets pulled randomly from the training data\n",
    "\n",
    "![alpha_variance](https://github.com/UCIDataScienceInitiative/PredictiveModeling_withPython/blob/wi_17/figures/session_2/alpha_variance.png?raw=true)\n",
    "\n",
    "- The plot shows that there can be significant **variance** in the optimum $\\alpha$ as determined by cross-validation\n",
    "- How do we overcome this dilemma?"
   ]
  },
  {
   "cell_type": "markdown",
   "metadata": {},
   "source": [
    "### Generating the plot"
   ]
  },
  {
   "cell_type": "code",
   "execution_count": 68,
   "metadata": {
    "collapsed": true
   },
   "outputs": [],
   "source": [
    "######################################################\n",
    "# Don't change this!\n",
    "######################################################\n",
    "\n",
    "# load overfitting data into 'train' and 'test' sets\n",
    "with np.load('data/overfitting_data.npz') as data:\n",
    "    x_train = data['x_train']\n",
    "    y_train = data['y_train']\n",
    "    x_test = data['x_test']\n",
    "    y_test = data['y_test']\n",
    "\n",
    "# split the 'train' set into 'train' and 'validation' sets\n",
    "from sklearn.cross_validation import train_test_split\n",
    "validation_portion = 0.1\n",
    "seed_1 = 1234\n",
    "seed_2 = 7890\n",
    "x_train_1, x_valid_1, y_train_1, y_valid_1 = \\\n",
    "    train_test_split(x_train, y_train, test_size=validation_portion, random_state=seed_1)\n",
    "x_train_2, x_valid_2, y_train_2, y_valid_2 = \\\n",
    "    train_test_split(x_train, y_train, test_size=validation_portion, random_state=seed_2)"
   ]
  },
  {
   "cell_type": "code",
   "execution_count": 131,
   "metadata": {
    "collapsed": false
   },
   "outputs": [
    {
     "data": {
      "image/png": "[encoded data removed]",
      "text/plain": [
       "<matplotlib.figure.Figure at 0x7f63888f1fd0>"
      ]
     },
     "metadata": {},
     "output_type": "display_data"
    }
   ],
   "source": [
    "######################################################\n",
    "# Don't change this!\n",
    "######################################################\n",
    "\n",
    "alphas = sorted([0]+[2**i for i in range(0,11)]+[24, 40])\n",
    "\n",
    "\n",
    "\n",
    "# Set up figure\n",
    "fig, axes = plt.subplots(1, 1, figsize = (12,9))\n",
    "\n",
    "lines = ['-', '--']\n",
    "\n",
    "for j, (x_train, y_train, x_valid, y_valid) in enumerate([(x_train_1, y_train_1, x_valid_1, y_valid_1),\n",
    "                                          (x_train_2, y_train_2, x_valid_2, y_valid_2)]):\n",
    "\n",
    "    models = [linear_model.Ridge(alpha) for alpha in alphas]\n",
    "    \n",
    "    train_errors = []\n",
    "    valid_errors = []\n",
    "    test_errors = []\n",
    "    coef_mags = []\n",
    "\n",
    "    for model in models:\n",
    "        \n",
    "        # Fit the model to the training data\n",
    "        model.fit(x_train, y_train)\n",
    "\n",
    "        # Predict the outputs y for the training, validation, and test data\n",
    "        y_train_pred = model.predict(x_train)\n",
    "        y_valid_pred = model.predict(x_valid)\n",
    "        #y_test_pred = model.predict(x_test)\n",
    "\n",
    "        # Calculate the mean-squared error of each set of predictions, and append to the appropriate lists\n",
    "        train_errors.append(mean_squared_error(y_train, y_train_pred))\n",
    "        valid_errors.append(mean_squared_error(y_valid, y_valid_pred))\n",
    "        #test_errors.append(mean_squared_error(y_test, y_test_pred))\n",
    "\n",
    "        # Calculate the norm of the coefficient vector and append to list\n",
    "        coef_mags.append(np.sum(np.abs(model.coef_)))\n",
    "\n",
    "    \n",
    "\n",
    "\n",
    "\n",
    "    #plt.semilogx(alphas[1:], train_errors[1:], lw = 3, label = 'Train', color = 'k', marker = 'o', markersize = 10)\n",
    "\n",
    "\n",
    "    plt.semilogx(alphas[1:], valid_errors[1:], lw = 3, label = 'Validation set '+str(j+1), color = 'k', ls = lines[j], marker = 'o', markersize = 10)\n",
    "\n",
    "\n",
    "plt.scatter(32, 3.82, color = 'red', s = 100, zorder = 3, label=r'Optimum $\\alpha$')\n",
    "plt.scatter(64, 4.415, color = 'red', s = 100, zorder = 3)\n",
    "    \n",
    "plt.xlim(.5, 2056)\n",
    "plt.ylim(2,10)\n",
    "\n",
    "plt.title(r'$\\alpha$ vs. mean square error for two different validation sets', size = 24)\n",
    "plt.xlabel(r'Regularization parameter $\\alpha$', size = 22)\n",
    "plt.ylabel(r'Mean square error', size = 22)\n",
    "\n",
    "plt.legend(fontsize = 18, loc = 'upper right', numpoints=1, scatterpoints=1)\n",
    "plt.grid()\n",
    "plt.tick_params(labelsize = 18)\n",
    "\n",
    "#plt.savefig('../figures/session_2/alpha_variance.png')\n",
    "\n",
    "plt.show()"
   ]
  },
  {
   "cell_type": "markdown",
   "metadata": {},
   "source": [
    "### K-Folds cross-validation\n",
    "- Here's an idea: Instead of just using one training/validation split, let's use multiple splits, and find which $\\alpha$ performs best *on average*\n",
    "- There are many ways of creating multiple training/validation splits, but we're going to use a method called k-folds cross-validation'\n",
    "- Here's how it works:\n",
    "\n",
    "    1. Partition the training data into K subsets, or **folds**\n",
    "    2. For each fold k in 1 to K:\n",
    "        1. Train the model on all the data outside of fold k\n",
    "        2. Calculate the model's error on the data in fold k\n",
    "    3. Average the error for each $\\alpha$, and choose $\\hat{\\alpha}$ to be the $\\alpha$ with least error *on average*\n",
    "    4. The average error for $\\alpha=\\hat{\\alpha}$ is our best estimate for the test and future error."
   ]
  },
  {
   "cell_type": "code",
   "execution_count": 132,
   "metadata": {
    "collapsed": false
   },
   "outputs": [
    {
     "data": {
      "text/html": [
       "<img src=\"https://chrisjmccormick.files.wordpress.com/2013/07/10_fold_cv.png\"/>"
      ],
      "text/plain": [
       "<IPython.core.display.Image object>"
      ]
     },
     "execution_count": 132,
     "metadata": {},
     "output_type": "execute_result"
    }
   ],
   "source": [
    "Image(url='https://chrisjmccormick.files.wordpress.com/2013/07/10_fold_cv.png')"
   ]
  },
  {
   "cell_type": "markdown",
   "metadata": {},
   "source": [
    "* **Good:** Only wastes 100/k% of the data at a time\n",
    "* **Bad:** Takes k times long as just training one model, still wastes 100/k% of the data"
   ]
  },
  {
   "cell_type": "code",
   "execution_count": null,
   "metadata": {
    "collapsed": true
   },
   "outputs": [],
   "source": []
  },
  {
   "cell_type": "markdown",
   "metadata": {},
   "source": [
    "##### sklearn.cross_validation.KFold example"
   ]
  },
  {
   "cell_type": "code",
   "execution_count": 20,
   "metadata": {
    "collapsed": false
   },
   "outputs": [
    {
     "name": "stdout",
     "output_type": "stream",
     "text": [
      "FOLD 0:\n",
      "-------\n",
      "train_ids:\n",
      "[150 151 152 153 154 155 156 157 158 159 160 161 162 163 164 165 166 167\n",
      " 168 169 170 171 172 173 174 175 176 177 178 179 180 181 182 183 184 185\n",
      " 186 187 188 189 190 191 192 193 194 195 196 197 198 199 200 201 202 203\n",
      " 204 205 206 207 208 209 210 211 212 213 214 215 216 217 218 219 220 221\n",
      " 222 223 224 225 226 227 228 229 230 231 232 233 234 235 236 237 238 239\n",
      " 240 241 242 243 244 245 246 247 248 249 250 251 252 253 254 255 256 257\n",
      " 258 259 260 261 262 263 264 265 266 267 268 269 270 271 272 273 274 275\n",
      " 276 277 278 279 280 281 282 283 284 285 286 287 288 289 290 291 292 293\n",
      " 294 295 296 297 298 299 300 301 302 303 304 305 306 307 308 309 310 311\n",
      " 312 313 314 315 316 317 318 319 320 321 322 323 324 325 326 327 328 329\n",
      " 330 331 332 333 334 335 336 337 338 339 340 341 342 343 344 345 346 347\n",
      " 348 349 350 351 352 353 354 355 356 357 358 359 360 361 362 363 364 365\n",
      " 366 367 368 369 370 371 372 373 374 375 376 377 378 379 380 381 382 383\n",
      " 384 385 386 387 388 389 390 391 392 393 394 395 396 397 398 399 400 401\n",
      " 402 403 404 405 406 407 408 409 410 411 412 413 414 415 416 417 418 419\n",
      " 420 421 422 423 424 425 426 427 428 429 430 431 432 433 434 435 436 437\n",
      " 438 439 440 441 442 443 444 445 446 447 448 449 450 451 452 453 454 455\n",
      " 456 457 458 459 460 461 462 463 464 465 466 467 468 469 470 471 472 473\n",
      " 474 475 476 477 478 479 480 481 482 483 484 485 486 487 488 489 490 491\n",
      " 492 493 494 495 496 497 498 499 500 501 502 503 504 505 506 507 508 509\n",
      " 510 511 512 513 514 515 516 517 518 519 520 521 522 523 524 525 526 527\n",
      " 528 529 530 531 532 533 534 535 536 537 538 539 540 541 542 543 544 545\n",
      " 546 547 548 549 550 551 552 553 554 555 556 557 558 559 560 561 562 563\n",
      " 564 565 566 567 568 569 570 571 572 573 574 575 576 577 578 579 580 581\n",
      " 582 583 584 585 586 587 588 589 590 591 592 593 594 595 596 597 598 599]\n",
      "\n",
      "valid_ids\n",
      "[  0   1   2   3   4   5   6   7   8   9  10  11  12  13  14  15  16  17\n",
      "  18  19  20  21  22  23  24  25  26  27  28  29  30  31  32  33  34  35\n",
      "  36  37  38  39  40  41  42  43  44  45  46  47  48  49  50  51  52  53\n",
      "  54  55  56  57  58  59  60  61  62  63  64  65  66  67  68  69  70  71\n",
      "  72  73  74  75  76  77  78  79  80  81  82  83  84  85  86  87  88  89\n",
      "  90  91  92  93  94  95  96  97  98  99 100 101 102 103 104 105 106 107\n",
      " 108 109 110 111 112 113 114 115 116 117 118 119 120 121 122 123 124 125\n",
      " 126 127 128 129 130 131 132 133 134 135 136 137 138 139 140 141 142 143\n",
      " 144 145 146 147 148 149]\n",
      "FOLD 1:\n",
      "-------\n",
      "train_ids:\n",
      "[  0   1   2   3   4   5   6   7   8   9  10  11  12  13  14  15  16  17\n",
      "  18  19  20  21  22  23  24  25  26  27  28  29  30  31  32  33  34  35\n",
      "  36  37  38  39  40  41  42  43  44  45  46  47  48  49  50  51  52  53\n",
      "  54  55  56  57  58  59  60  61  62  63  64  65  66  67  68  69  70  71\n",
      "  72  73  74  75  76  77  78  79  80  81  82  83  84  85  86  87  88  89\n",
      "  90  91  92  93  94  95  96  97  98  99 100 101 102 103 104 105 106 107\n",
      " 108 109 110 111 112 113 114 115 116 117 118 119 120 121 122 123 124 125\n",
      " 126 127 128 129 130 131 132 133 134 135 136 137 138 139 140 141 142 143\n",
      " 144 145 146 147 148 149 300 301 302 303 304 305 306 307 308 309 310 311\n",
      " 312 313 314 315 316 317 318 319 320 321 322 323 324 325 326 327 328 329\n",
      " 330 331 332 333 334 335 336 337 338 339 340 341 342 343 344 345 346 347\n",
      " 348 349 350 351 352 353 354 355 356 357 358 359 360 361 362 363 364 365\n",
      " 366 367 368 369 370 371 372 373 374 375 376 377 378 379 380 381 382 383\n",
      " 384 385 386 387 388 389 390 391 392 393 394 395 396 397 398 399 400 401\n",
      " 402 403 404 405 406 407 408 409 410 411 412 413 414 415 416 417 418 419\n",
      " 420 421 422 423 424 425 426 427 428 429 430 431 432 433 434 435 436 437\n",
      " 438 439 440 441 442 443 444 445 446 447 448 449 450 451 452 453 454 455\n",
      " 456 457 458 459 460 461 462 463 464 465 466 467 468 469 470 471 472 473\n",
      " 474 475 476 477 478 479 480 481 482 483 484 485 486 487 488 489 490 491\n",
      " 492 493 494 495 496 497 498 499 500 501 502 503 504 505 506 507 508 509\n",
      " 510 511 512 513 514 515 516 517 518 519 520 521 522 523 524 525 526 527\n",
      " 528 529 530 531 532 533 534 535 536 537 538 539 540 541 542 543 544 545\n",
      " 546 547 548 549 550 551 552 553 554 555 556 557 558 559 560 561 562 563\n",
      " 564 565 566 567 568 569 570 571 572 573 574 575 576 577 578 579 580 581\n",
      " 582 583 584 585 586 587 588 589 590 591 592 593 594 595 596 597 598 599]\n",
      "\n",
      "valid_ids\n",
      "[150 151 152 153 154 155 156 157 158 159 160 161 162 163 164 165 166 167\n",
      " 168 169 170 171 172 173 174 175 176 177 178 179 180 181 182 183 184 185\n",
      " 186 187 188 189 190 191 192 193 194 195 196 197 198 199 200 201 202 203\n",
      " 204 205 206 207 208 209 210 211 212 213 214 215 216 217 218 219 220 221\n",
      " 222 223 224 225 226 227 228 229 230 231 232 233 234 235 236 237 238 239\n",
      " 240 241 242 243 244 245 246 247 248 249 250 251 252 253 254 255 256 257\n",
      " 258 259 260 261 262 263 264 265 266 267 268 269 270 271 272 273 274 275\n",
      " 276 277 278 279 280 281 282 283 284 285 286 287 288 289 290 291 292 293\n",
      " 294 295 296 297 298 299]\n",
      "FOLD 2:\n",
      "-------\n",
      "train_ids:\n",
      "[  0   1   2   3   4   5   6   7   8   9  10  11  12  13  14  15  16  17\n",
      "  18  19  20  21  22  23  24  25  26  27  28  29  30  31  32  33  34  35\n",
      "  36  37  38  39  40  41  42  43  44  45  46  47  48  49  50  51  52  53\n",
      "  54  55  56  57  58  59  60  61  62  63  64  65  66  67  68  69  70  71\n",
      "  72  73  74  75  76  77  78  79  80  81  82  83  84  85  86  87  88  89\n",
      "  90  91  92  93  94  95  96  97  98  99 100 101 102 103 104 105 106 107\n",
      " 108 109 110 111 112 113 114 115 116 117 118 119 120 121 122 123 124 125\n",
      " 126 127 128 129 130 131 132 133 134 135 136 137 138 139 140 141 142 143\n",
      " 144 145 146 147 148 149 150 151 152 153 154 155 156 157 158 159 160 161\n",
      " 162 163 164 165 166 167 168 169 170 171 172 173 174 175 176 177 178 179\n",
      " 180 181 182 183 184 185 186 187 188 189 190 191 192 193 194 195 196 197\n",
      " 198 199 200 201 202 203 204 205 206 207 208 209 210 211 212 213 214 215\n",
      " 216 217 218 219 220 221 222 223 224 225 226 227 228 229 230 231 232 233\n",
      " 234 235 236 237 238 239 240 241 242 243 244 245 246 247 248 249 250 251\n",
      " 252 253 254 255 256 257 258 259 260 261 262 263 264 265 266 267 268 269\n",
      " 270 271 272 273 274 275 276 277 278 279 280 281 282 283 284 285 286 287\n",
      " 288 289 290 291 292 293 294 295 296 297 298 299 450 451 452 453 454 455\n",
      " 456 457 458 459 460 461 462 463 464 465 466 467 468 469 470 471 472 473\n",
      " 474 475 476 477 478 479 480 481 482 483 484 485 486 487 488 489 490 491\n",
      " 492 493 494 495 496 497 498 499 500 501 502 503 504 505 506 507 508 509\n",
      " 510 511 512 513 514 515 516 517 518 519 520 521 522 523 524 525 526 527\n",
      " 528 529 530 531 532 533 534 535 536 537 538 539 540 541 542 543 544 545\n",
      " 546 547 548 549 550 551 552 553 554 555 556 557 558 559 560 561 562 563\n",
      " 564 565 566 567 568 569 570 571 572 573 574 575 576 577 578 579 580 581\n",
      " 582 583 584 585 586 587 588 589 590 591 592 593 594 595 596 597 598 599]\n",
      "\n",
      "valid_ids\n",
      "[300 301 302 303 304 305 306 307 308 309 310 311 312 313 314 315 316 317\n",
      " 318 319 320 321 322 323 324 325 326 327 328 329 330 331 332 333 334 335\n",
      " 336 337 338 339 340 341 342 343 344 345 346 347 348 349 350 351 352 353\n",
      " 354 355 356 357 358 359 360 361 362 363 364 365 366 367 368 369 370 371\n",
      " 372 373 374 375 376 377 378 379 380 381 382 383 384 385 386 387 388 389\n",
      " 390 391 392 393 394 395 396 397 398 399 400 401 402 403 404 405 406 407\n",
      " 408 409 410 411 412 413 414 415 416 417 418 419 420 421 422 423 424 425\n",
      " 426 427 428 429 430 431 432 433 434 435 436 437 438 439 440 441 442 443\n",
      " 444 445 446 447 448 449]\n",
      "FOLD 3:\n",
      "-------\n",
      "train_ids:\n",
      "[  0   1   2   3   4   5   6   7   8   9  10  11  12  13  14  15  16  17\n",
      "  18  19  20  21  22  23  24  25  26  27  28  29  30  31  32  33  34  35\n",
      "  36  37  38  39  40  41  42  43  44  45  46  47  48  49  50  51  52  53\n",
      "  54  55  56  57  58  59  60  61  62  63  64  65  66  67  68  69  70  71\n",
      "  72  73  74  75  76  77  78  79  80  81  82  83  84  85  86  87  88  89\n",
      "  90  91  92  93  94  95  96  97  98  99 100 101 102 103 104 105 106 107\n",
      " 108 109 110 111 112 113 114 115 116 117 118 119 120 121 122 123 124 125\n",
      " 126 127 128 129 130 131 132 133 134 135 136 137 138 139 140 141 142 143\n",
      " 144 145 146 147 148 149 150 151 152 153 154 155 156 157 158 159 160 161\n",
      " 162 163 164 165 166 167 168 169 170 171 172 173 174 175 176 177 178 179\n",
      " 180 181 182 183 184 185 186 187 188 189 190 191 192 193 194 195 196 197\n",
      " 198 199 200 201 202 203 204 205 206 207 208 209 210 211 212 213 214 215\n",
      " 216 217 218 219 220 221 222 223 224 225 226 227 228 229 230 231 232 233\n",
      " 234 235 236 237 238 239 240 241 242 243 244 245 246 247 248 249 250 251\n",
      " 252 253 254 255 256 257 258 259 260 261 262 263 264 265 266 267 268 269\n",
      " 270 271 272 273 274 275 276 277 278 279 280 281 282 283 284 285 286 287\n",
      " 288 289 290 291 292 293 294 295 296 297 298 299 300 301 302 303 304 305\n",
      " 306 307 308 309 310 311 312 313 314 315 316 317 318 319 320 321 322 323\n",
      " 324 325 326 327 328 329 330 331 332 333 334 335 336 337 338 339 340 341\n",
      " 342 343 344 345 346 347 348 349 350 351 352 353 354 355 356 357 358 359\n",
      " 360 361 362 363 364 365 366 367 368 369 370 371 372 373 374 375 376 377\n",
      " 378 379 380 381 382 383 384 385 386 387 388 389 390 391 392 393 394 395\n",
      " 396 397 398 399 400 401 402 403 404 405 406 407 408 409 410 411 412 413\n",
      " 414 415 416 417 418 419 420 421 422 423 424 425 426 427 428 429 430 431\n",
      " 432 433 434 435 436 437 438 439 440 441 442 443 444 445 446 447 448 449]\n",
      "\n",
      "valid_ids\n",
      "[450 451 452 453 454 455 456 457 458 459 460 461 462 463 464 465 466 467\n",
      " 468 469 470 471 472 473 474 475 476 477 478 479 480 481 482 483 484 485\n",
      " 486 487 488 489 490 491 492 493 494 495 496 497 498 499 500 501 502 503\n",
      " 504 505 506 507 508 509 510 511 512 513 514 515 516 517 518 519 520 521\n",
      " 522 523 524 525 526 527 528 529 530 531 532 533 534 535 536 537 538 539\n",
      " 540 541 542 543 544 545 546 547 548 549 550 551 552 553 554 555 556 557\n",
      " 558 559 560 561 562 563 564 565 566 567 568 569 570 571 572 573 574 575\n",
      " 576 577 578 579 580 581 582 583 584 585 586 587 588 589 590 591 592 593\n",
      " 594 595 596 597 598 599]\n"
     ]
    },
    {
     "name": "stderr",
     "output_type": "stream",
     "text": [
      "/home/prestonh/anaconda3/lib/python3.5/site-packages/sklearn/cross_validation.py:44: DeprecationWarning: This module was deprecated in version 0.18 in favor of the model_selection module into which all the refactored classes and functions are moved. Also note that the interface of the new CV iterators are different from that of this module. This module will be removed in 0.20.\n",
      "  \"This module will be removed in 0.20.\", DeprecationWarning)\n"
     ]
    }
   ],
   "source": [
    "######################################################\n",
    "# Don't change this!\n",
    "######################################################\n",
    "\n",
    "# scikit learn provides a useful object to help you perform kfold cross validation\n",
    "from sklearn.cross_validation import KFold\n",
    "\n",
    "n_data = len(y_train)\n",
    "fold_count = 0\n",
    "for train_reduced_row_ids, valid_row_ids in KFold(n_data, n_folds=4):\n",
    "    print\n",
    "    print\n",
    "    print(\"FOLD %d:\" % fold_count)\n",
    "    print(\"-------\")\n",
    "    print(\"train_ids:\\n%s\\n\\nvalid_ids\\n%s\" % (train_reduced_row_ids, valid_row_ids))\n",
    "    x_train_reduced = x_train[train_reduced_row_ids]\n",
    "    y_train_reduced = y_train[train_reduced_row_ids]\n",
    "    x_valid = x_train[valid_row_ids]\n",
    "    y_valid = y_train[valid_row_ids]\n",
    "    fold_count += 1"
   ]
  },
  {
   "cell_type": "markdown",
   "metadata": {},
   "source": [
    "#### <span style=\"color:red\">K-Fold Cross Validation Exercise</span>\n",
    "1. Partner up.  On one computer, perform K-Fold cross validation:\n",
    "    1. Create the train/validation split indices (this is done for you in the below cell, just run it!)\n",
    "    2. For each alpha in [8, 16, 32, 64, 128]:\n",
    "        1. Create a Ridge model with regularization paramter alpha\n",
    "        2. For each training/validation split\n",
    "            1. *Train* the Ridge model on the training data\n",
    "            2. *Test* the model on the validation data\n",
    "            3. Keep a running tally of the *average* validation error\n",
    "    3. Compare the *average* error for each alpha; determine the optimum value of alpha.\n",
    "    4. Is the optimum alpha from K-Folds the same as the alpha found above using a single training/test split?"
   ]
  },
  {
   "cell_type": "markdown",
   "metadata": {},
   "source": [
    "##### Load the training, test data; create the folds"
   ]
  },
  {
   "cell_type": "code",
   "execution_count": 21,
   "metadata": {
    "collapsed": false
   },
   "outputs": [],
   "source": [
    "######################################################\n",
    "# Don't change this!\n",
    "######################################################\n",
    "\n",
    "# load overfitting data into 'train' and 'test' sets\n",
    "with np.load('data/overfitting_data.npz') as data:\n",
    "    x_train_validation = data['x_train']\n",
    "    y_train_validation = data['y_train']\n",
    "    x_test = data['x_test']\n",
    "    y_test = data['y_test']\n",
    "\n",
    "# Shuffle the training data in unison\n",
    "from sklearn.utils import shuffle\n",
    "x_train_validation, y_train_validation = shuffle(x_train_validation, y_train_validation)\n",
    "\n",
    "# Create folds\n",
    "K = 4\n",
    "folds = KFold(x_train_validation.shape[0], n_folds = K)"
   ]
  },
  {
   "cell_type": "code",
   "execution_count": 42,
   "metadata": {
    "collapsed": false
   },
   "outputs": [
    {
     "name": "stdout",
     "output_type": "stream",
     "text": [
      "alpha\t\tvalidation error\n",
      "-----\t\t----------------\n",
      "8 \t\t 5.29006622179\n",
      "16 \t\t 5.08364708729\n",
      "32 \t\t 5.03513883776\n",
      "64 \t\t 5.27458454684\n",
      "128 \t\t 5.87781817469\n"
     ]
    }
   ],
   "source": [
    "######################################################\n",
    "# Insert solution below\n",
    "######################################################\n",
    "\n",
    "\n",
    "alphas = [2**i for i in range(3, 8)]\n",
    "\n",
    "# List of average validation error for each alpha\n",
    "avg_validation_errors = [0 for i in range(len(alphas))]\n",
    "\n",
    "for i, alpha in enumerate(alphas):\n",
    "    model = Ridge(alpha)\n",
    "    for train_rows, valid_rows in folds:\n",
    "        x_train = x_train_validation[train_rows]\n",
    "        y_train = y_train_validation[train_rows]\n",
    "        x_valid = x_train_validation[valid_rows]\n",
    "        y_valid = y_train_validation[valid_rows]\n",
    "        \n",
    "        model.fit(x_train, y_train)\n",
    "        y_valid_predicted = model.predict(x_valid)\n",
    "        avg_validation_errors[i] += mean_squared_error(y_valid, y_valid_predicted)/K\n",
    "        \n",
    "print('alpha\\t\\tvalidation error')\n",
    "print('-----\\t\\t----------------')\n",
    "for i in range(len(alphas)):\n",
    "    print(alphas[i], '\\t\\t', avg_validation_errors[i])"
   ]
  },
  {
   "cell_type": "markdown",
   "metadata": {},
   "source": [
    "## Training the final model\n",
    "\n",
    "- Great! We used K-Fold cross-validation to select the best possible alpha $\\hat{\\alpha}$ value out of a list.\n",
    "- The last thing we are going to do is train the model `Ridge(alpha = ` $\\hat{\\alpha}$`)` on the *full* training set---now that we're done finding the best hyperparameter, we should use as much data as possible to train our final model so we can get the most out of our training set"
   ]
  },
  {
   "cell_type": "markdown",
   "metadata": {},
   "source": [
    "#### <span style=\"color:red\">Wrapping up</span>\n",
    "1. Partner up.  On one computer:\n",
    "    1. Train the best model on the entire training set.\n",
    "    2. Calculate the test error."
   ]
  },
  {
   "cell_type": "markdown",
   "metadata": {},
   "source": [
    "##### Load data"
   ]
  },
  {
   "cell_type": "code",
   "execution_count": null,
   "metadata": {
    "collapsed": true
   },
   "outputs": [],
   "source": [
    "######################################################\n",
    "# Don't change this!\n",
    "######################################################\n",
    "\n",
    "# load overfitting data into 'train' and 'test' sets\n",
    "with np.load('data/overfitting_data.npz') as data:\n",
    "    x_train = data['x_train']\n",
    "    y_train = data['y_train']\n",
    "    x_test = data['x_test']\n",
    "    y_test = data['y_test']"
   ]
  },
  {
   "cell_type": "code",
   "execution_count": 46,
   "metadata": {
    "collapsed": false
   },
   "outputs": [
    {
     "name": "stdout",
     "output_type": "stream",
     "text": [
      "Test error\n",
      "6.37510785322\n"
     ]
    }
   ],
   "source": [
    "######################################################\n",
    "# Insert solution here!\n",
    "######################################################\n",
    "best_alpha = 32\n",
    "model = Ridge(alpha=best_alpha)\n",
    "model.fit(x_train, y_train)\n",
    "y_test_predict = model.predict(x_test)\n",
    "\n",
    "print(\"Test error\")\n",
    "print(mean_squared_error(y_test, y_test_predict))"
   ]
  },
  {
   "cell_type": "markdown",
   "metadata": {},
   "source": [
    "## Summary:\n",
    "* We're primarily interested in predictive performance on unseen data, not on seen data.\n",
    "* **Training error** estimates error on **seen** data\n",
    "* **Cross validation error** estimates error on **unseen** data\n",
    "* **Regularization** adds an additional term to our **loss function** that penalized parameter squared-magnitude $\\|\\boldsymbol{\\beta}\\|^{2}$. The **hyperparameter** $\\alpha$ tunes the relative contribution of this penalty term to the residual sum of squares term $\\sum_{i}\\left(y_{i}-X_{i}^{T}\\beta\\right)^{2}$\n",
    "* We discussed one type of regularization, **Ridge Regression**, but there are many other possibilities with their own advantages\n",
    "  * **Ridge Regression**: $\\alpha\\sum_{i}\\|\\beta_{i}\\|^{2}$    ('L2 penalty')\n",
    "  * **LASSO**: $\\alpha\\sum_{i}\\|\\beta_{i}\\|$    ('L1 penalty')\n",
    "  * **ElasticNet**: $\\alpha_{\\text{RR}}\\sum_{i}\\|\\beta_{i}\\|^{2}+\\alpha_{\\text{LASSO}}\\sum_{i}\\|\\beta_{i}\\|$    (Combination of Ridge and Lasso)\n",
    "* We talked about two kinds of cross validation error:\n",
    "  * **Validation Error** -- split your training set into a reduced training set and a validation set\n",
    "  * **K-Fold Error** -- Split your training data into k reduced training sets and a validation sets\n",
    "* Regularization introduces new hyperparameters\n",
    "* Use a cross validated estimate of future performance to choose your model and hyperparameter settings"
   ]
  },
  {
   "cell_type": "code",
   "execution_count": null,
   "metadata": {
    "collapsed": true
   },
   "outputs": [],
   "source": []
  }
 ],
 "metadata": {
  "anaconda-cloud": {},
  "kernelspec": {
   "display_name": "Python [conda root]",
   "language": "python",
   "name": "conda-root-py"
  },
  "language_info": {
   "codemirror_mode": {
    "name": "ipython",
    "version": 3
   },
   "file_extension": ".py",
   "mimetype": "text/x-python",
   "name": "python",
   "nbconvert_exporter": "python",
   "pygments_lexer": "ipython3",
   "version": "3.5.2"
  }
 },
 "nbformat": 4,
 "nbformat_minor": 0
}
