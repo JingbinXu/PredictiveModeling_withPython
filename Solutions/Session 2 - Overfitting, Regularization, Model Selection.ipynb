{
 "cells": [
  {
   "cell_type": "code",
   "execution_count": 8,
   "metadata": {
    "collapsed": false
   },
   "outputs": [
    {
     "data": {
      "text/html": [
       "<img src=\"http://datascience.uci.edu/wp-content/uploads/sites/2/2014/09/data_science_logo_with_image1.png\"/>"
      ],
      "text/plain": [
       "<IPython.core.display.Image object>"
      ]
     },
     "execution_count": 8,
     "metadata": {},
     "output_type": "execute_result"
    }
   ],
   "source": [
    "import numpy as np\n",
    "import pandas as pd\n",
    "from IPython.display import Image\n",
    "import matplotlib.pyplot as plt\n",
    "%matplotlib inline\n",
    "Image(url='http://datascience.uci.edu/wp-content/uploads/sites/2/2014/09/data_science_logo_with_image1.png')"
   ]
  },
  {
   "cell_type": "markdown",
   "metadata": {},
   "source": [
    "## Predictive Modeling with Python - Overfitting, Regularization, Model Selection\n",
    "#### Author: Kevin Bache\n",
    "#### Modified by: Preston Hinkle"
   ]
  },
  {
   "cell_type": "markdown",
   "metadata": {},
   "source": [
    "## Before Lunch:\n",
    "We created a linear model and saw that it performed well on already seen data but poorly on unseen data.\n",
    "\n",
    "\n",
    "This session is about creating models that *generalize* to new data."
   ]
  },
  {
   "cell_type": "markdown",
   "metadata": {},
   "source": [
    "## Cross validation\n",
    "\n",
    "\n",
    "What we saw above is a common setup.  We have $\\mathbf{X}$ and $\\mathbf{y}$ data from the past and $\\mathbf{X}$ data for the present for which we want to **predict** the future $\\mathbf{y}$ values.\n",
    "\n",
    "We can generalize this notion of past/present data into what's generally called *train* and *test* data.\n",
    "\n",
    "* **Training Data** -- A dataset that we use to train our model.  We have both $\\mathbf{X}$ and $\\mathbf{y}$\n",
    "\n",
    "* **Testing Data** -- A dataset that we test our model on to get an idea of how well our model will perform on new data.\n",
    "\n",
    "\\*\\* **Never optimize a model based on predictions of the testing set; it is there for inspection alone!.** \\*\\*\n",
    "\n",
    "The method of partitioning data into training sets and test sets is known as **cross-validation**; it helps give us an idea on how well our model will perform on new data."
   ]
  },
  {
   "cell_type": "markdown",
   "metadata": {
    "collapsed": true
   },
   "source": [
    "## Two of machine learning's key ideas:\n",
    "### <span style=\"color:green\">**1) A predictive model is only as good as its predictions on unseen data **</span>\n",
    "\n",
    "### <span style=\"color:green\">**2) Error on the dataset we trained on is not a good predictor of error on future data**</span>\n",
    "\n",
    "- Why? Because when we train models we tend to *over-fit* the training data set."
   ]
  },
  {
   "cell_type": "markdown",
   "metadata": {},
   "source": [
    "### Overfitting in One Picture"
   ]
  },
  {
   "cell_type": "code",
   "execution_count": 3,
   "metadata": {
    "collapsed": false,
    "scrolled": true
   },
   "outputs": [
    {
     "data": {
      "text/html": [
       "<img src=\"http://radimrehurek.com/data_science_python/plot_bias_variance_examples_2.png\"/>"
      ],
      "text/plain": [
       "<IPython.core.display.Image object>"
      ]
     },
     "execution_count": 3,
     "metadata": {},
     "output_type": "execute_result"
    }
   ],
   "source": [
    "Image(url='http://radimrehurek.com/data_science_python/plot_bias_variance_examples_2.png')"
   ]
  },
  {
   "cell_type": "markdown",
   "metadata": {},
   "source": [
    "### Model description:\n",
    "- d = 1: Two parameters: $y = \\theta_{0} + \\theta_{1}x_{1}$ (intercept + linear term)\n",
    "- d = 2: Three parameters: $y = \\theta_{0} + \\theta_{1}x_{1} + \\theta_{2}x_{2}^{2}$ (intercept + linear term + quadratic term)\n",
    "- d = 6: Seven parameters: $y = \\theta_{0} + \\theta_{1}x_{1} + ... + \\theta_{6}x^{6}$ (intercept + linear term + ... ) a 6th degree polynomial!"
   ]
  },
  {
   "cell_type": "markdown",
   "metadata": {},
   "source": [
    "### Questions:\n",
    "- Which of the above 3 models has the least error?\n",
    "- Which do you think is the best model?"
   ]
  },
  {
   "cell_type": "markdown",
   "metadata": {},
   "source": [
    "## How to Fight Overfitting?\n",
    "\n",
    "Obviously overfitting weakens our model's predictive power for new data, but how do we prevent it?\n",
    "\n",
    "There are two linked strategies to accomplish this: **regularization** and **model selection**."
   ]
  },
  {
   "cell_type": "markdown",
   "metadata": {},
   "source": [
    "## Regularization\n",
    "The idea in regularization is that we're going to modify our loss function to penalize it for being too complex. Simple models tend to perform better on new data.\n",
    "\n",
    "One way to do this is to try to keep our regression coefficients small. Why would we want to do this? One intuitive explanation is that if we have big regression coefficients we'll get large changes in the predicted values from small changes in input value. This led to the erratic behavior of the 6th degree polynomial fit to the data in the above plot. Intuitively, our predictions should vary smoothly with the data.\n",
    "\n",
    "So a model with smaller coefficients makes smoother predictions.  It is simpler, which means it will have a harder time overfitting. \n",
    "\n",
    "We can change our linear regression loss function to help us reduce overfitting:\n",
    "\n",
    "### Linear Regression Loss Function\n",
    "\\begin{eqnarray*}\n",
    "    Loss(\\beta) = MSE &=& \\frac{1}{N} \\sum_{i=1}^{N} (y_i - \\hat y_i)^2 \\\\\n",
    "    &=& \\frac{1}{N} \\sum_{i=1}^{N} (y_i - x_i^T\\beta)^2 \\\\   \n",
    "\\end{eqnarray*}\n",
    "\n",
    "### Linear Regression Loss Function __with Regularization__\n",
    "\\begin{eqnarray*}\n",
    "    Loss(\\beta) &=& \\frac{1}{N} \\sum_{i=1}^{N} (y_i - x_i^T\\beta)^2 + \\alpha ||\\beta||_2^2\\\\\n",
    "    &=& \\frac{1}{N} \\sum_{i=1}^{N} (y_i - x_i^T\\beta)^2 + \\alpha \\beta^T \\beta\\\\\n",
    "    &=& \\frac{1}{N} \\sum_{i=1}^{N} (y_i - x_i^T\\beta)^2 + \\alpha \\sum_{d=1}^D \\beta_d^2\\\\\n",
    "\\end{eqnarray*}\n",
    "\n",
    "**Important:** $\\alpha$ is known as the regularization hyperparameter, and it determines how strongly we wish to penalize large parameter values $\\beta$."
   ]
  },
  {
   "cell_type": "markdown",
   "metadata": {},
   "source": [
    "**By the way, there are many types of regularization that can be used; we chose something called 'Ridge Regression' which uses the L$^{2}$ norm (sum of squares).**\n",
    "\n",
    "We won't get into details, but a ridge regression model can be optimized in much the same way as an unregularized linear regression: either with using some form of gradient descent or matrix-based solutions. "
   ]
  },
  {
   "cell_type": "markdown",
   "metadata": {},
   "source": [
    "### <span style=\"color:red\">Understanding the effects of the regularization term</span>\n",
    "1. Partner up.  On one computer:\n",
    "  1. Create two linear models in scikitlearn, an unregularized `LinearRegression` model, and a regularized `Ridge` model with regularization parameter $\\alpha$ = 1. e.g., `model_ridge = linear_model.Ridge(alpha = 1)`\n",
    "  2. *Train* both models on the training data set loaded below, e.g., `model.fit(x_train, y_train)`\n",
    "  3. *Predict* the output values $y$ for the training and test data set using both of the trained models, e.g., `model.predict(x)`\n",
    "  4. Calculate the mean squared error of the predictions $y$ for the training and test sets using the function defined below\n",
    "  5. For each model, sum the absolute values of the coefficients $\\beta$\n",
    "      - Hints:\n",
    "          - `model.coef_` returns a list of the coefficients of `model`\n",
    "          - `np.sum()` and `np.abs()` will help sum the coefficients\n",
    "\n",
    "2. Inspect the training error, test error, and the sums of coefficients for the training and test models.\n",
    "3. Discuss; what impact did the regularization term have on our model's determined coefficients and its performance?"
   ]
  },
  {
   "cell_type": "code",
   "execution_count": 5,
   "metadata": {
    "collapsed": false
   },
   "outputs": [],
   "source": [
    "from sklearn.linear_model import LinearRegression, Ridge"
   ]
  },
  {
   "cell_type": "code",
   "execution_count": 6,
   "metadata": {
    "collapsed": true
   },
   "outputs": [],
   "source": [
    "def mean_squared_error(y_true, y_pred):\n",
    "    \"\"\"\n",
    "    calculate the mean_squared_error given a vector of true ys and a vector of predicted ys\n",
    "    \"\"\"\n",
    "    diff = y_true - y_pred\n",
    "    return np.dot(diff, diff) / len(diff)"
   ]
  },
  {
   "cell_type": "code",
   "execution_count": 9,
   "metadata": {
    "collapsed": false
   },
   "outputs": [],
   "source": [
    "# load overfitting data\n",
    "with np.load('data/overfitting_data.npz') as data:\n",
    "    x_train = data['x_train']\n",
    "    y_train = data['y_train']\n",
    "    x_test = data['x_test']\n",
    "    y_test = data['y_test']"
   ]
  },
  {
   "cell_type": "code",
   "execution_count": 13,
   "metadata": {
    "collapsed": false
   },
   "outputs": [
    {
     "name": "stdout",
     "output_type": "stream",
     "text": [
      "LinearRegression():\n",
      "\tMean-squared error 283.527287922\n",
      "\tCoefficients: 338.387469048\n",
      "Ridge(alpha = 1):\n",
      "\tMean-squared error 9.56415606837\n",
      "\tCoefficients: 62.4912904062\n"
     ]
    }
   ],
   "source": [
    "#########################\n",
    "# Solution\n",
    "#########################\n",
    "\n",
    "\n",
    "model_lr = linear_model.LinearRegression()\n",
    "model_lr.fit(x_train, y_train)\n",
    "y_pred = model_lr.predict(x_test)\n",
    "\n",
    "print 'LinearRegression():'\n",
    "print '\\tMean-squared error', mean_squared_error(y_test, y_pred)\n",
    "print '\\tCoefficients:', np.sum(np.abs(model_lr.coef_))\n",
    "\n",
    "model_ridge = linear_model.Ridge(alpha = 1)\n",
    "model_ridge.fit(x_train, y_train)\n",
    "y_pred = model_ridge.predict(x_test)\n",
    "\n",
    "print 'Ridge(alpha = 1):'\n",
    "print '\\tMean-squared error', mean_squared_error(y_test, y_pred)\n",
    "print '\\tCoefficients:', np.sum(np.abs(model_ridge.coef_))"
   ]
  },
  {
   "cell_type": "markdown",
   "metadata": {},
   "source": [
    "### Regularization is awesome!\n",
    "\n",
    "If the above steps were completed correctly, then you should have created and trained a *regularized* model that had less error on the test set than the *unregularized* model. Great job!\n",
    "\n",
    "This method is clearly very powerful, but it raises some questions..."
   ]
  },
  {
   "cell_type": "markdown",
   "metadata": {},
   "source": [
    "### Model selection\n",
    "\n",
    "- How do we choose $\\alpha$? Setting $\\alpha=1$ improved upon the unregularized model, but the value was arbitrarily chosen---surely we can make do better.\n",
    "\n",
    "- One option is to try a range of $\\alpha$ values and select the one the yields the least error. But, remember: ** we are *not* allowed to optimize our model based on the test set!** This restriction extends to hyperparameters such as $\\alpha$!\n",
    "\n",
    "- So what do we do? We need a way of validating $\\alpha$ choices, but we aren't allowed to use performance on the test data to make this decision...\n",
    "\n",
    "- Solution: Partition the *training data* into two new sets, a new *training dataset* and a *validation dataset*; select the model which yields the least error on validation predictions\n",
    "\n",
    "- This method is known as **model selection**\n",
    "\n",
    "- Let's see what this looks like in action:\n",
    "\n",
    "\n",
    "### <span style=\"color:red\">Exercise: Choosing the optimal hyperparameter value $\\alpha$ using a validation set</span>\n",
    "1. Partner up. On one computer:\n",
    "  1. Partition the training data set into a new training set and a validation set (this is done for you, just run the cell below)\n",
    "  2. Train 12 models with regularization parameters $\\alpha$ in {0, 1, 2, 4, 8, ..., 512, 1024}\n",
    "  3. Calculate the training error, validation error, test error, and the magnitude of the coefficient vectors for each model. \n",
    "  4. **Store the values in lists named as follows:**\n",
    "    - 'train_errors'\n",
    "    - 'validation_errors'\n",
    "    - 'test_errors'\n",
    "    - 'coef_mags'\n",
    "    \n",
    "   - **Hints: **\n",
    "    - We can train a non-regularized Linear Regression model using Ridge(alpha = 0)\n",
    "    - Python lists are very helpful here\n",
    "        - Create a `list` of all the alpha values, called alphas: `alphas=[0, 1, 2, ..., 1024]`\n",
    "        - Create a `list` of models like so: `models=[linear_model.Ridge(alpha) for alpha in alphas]`\n",
    "        - Iterate over every model in a `for` loop, calculating the errors and coefficients and appending them to the lists\n",
    " \n",
    "2. Inspect the relationship between $\\alpha$ and the train error, validation error, test error, and coefficient magnitudes. Describe what is happening to each as $\\alpha$ is dialed up.\n",
    "\n",
    "3. Which $\\alpha$ value works best?"
   ]
  },
  {
   "cell_type": "code",
   "execution_count": 123,
   "metadata": {
    "collapsed": false
   },
   "outputs": [],
   "source": [
    "# load overfitting data into 'train' and 'test' sets\n",
    "with np.load('data/overfitting_data.npz') as data:\n",
    "    x_train = data['x_train']\n",
    "    y_train = data['y_train']\n",
    "    x_test = data['x_test']\n",
    "    y_test = data['y_test']\n",
    "\n",
    "# split the 'train' set into 'train' and 'validation' sets\n",
    "from sklearn.cross_validation import train_test_split\n",
    "validation_portion = 0.1\n",
    "seed = 1234\n",
    "x_train, x_valid, y_train, y_valid = \\\n",
    "    train_test_split(x_train, y_train, test_size=validation_portion, random_state=seed)"
   ]
  },
  {
   "cell_type": "code",
   "execution_count": 124,
   "metadata": {
    "collapsed": false
   },
   "outputs": [
    {
     "name": "stdout",
     "output_type": "stream",
     "text": [
      "training errors:\n",
      "alpha =  0 \t0.0\n",
      "alpha =  1 \t0.002\n",
      "alpha =  2 \t0.005\n",
      "alpha =  4 \t0.012\n",
      "alpha =  8 \t0.029\n",
      "alpha =  16 \t0.063\n",
      "alpha =  32 \t0.137\n",
      "alpha =  64 \t0.291\n",
      "alpha =  128 \t0.619\n",
      "alpha =  256 \t1.282\n",
      "alpha =  512 \t2.502\n",
      "alpha =  1024 \t4.429\n",
      "\n",
      "validation errors:\n",
      "alpha =  0 \t9.006\n",
      "alpha =  1 \t7.451\n",
      "alpha =  2 \t6.569\n",
      "alpha =  4 \t5.576\n",
      "alpha =  8 \t4.677\n",
      "alpha =  16 \t4.063\n",
      "alpha =  32 \t3.819\n",
      "alpha =  64 \t3.908\n",
      "alpha =  128 \t4.271\n",
      "alpha =  256 \t4.901\n",
      "alpha =  512 \t5.83\n",
      "alpha =  1024 \t7.04\n",
      "\n",
      "test errors:\n",
      "alpha =  0 \t8.078\n",
      "alpha =  1 \t6.842\n",
      "alpha =  2 \t6.188\n",
      "alpha =  4 \t5.5\n",
      "alpha =  8 \t4.943\n",
      "alpha =  16 \t4.66\n",
      "alpha =  32 \t4.739\n",
      "alpha =  64 \t5.214\n",
      "alpha =  128 \t6.097\n",
      "alpha =  256 \t7.38\n",
      "alpha =  512 \t9.015\n",
      "alpha =  1024 \t10.865\n",
      "\n",
      "coefficients:\n",
      "alpha =  0 \t62.913\n",
      "alpha =  1 \t57.752\n",
      "alpha =  2 \t54.657\n",
      "alpha =  4 \t50.843\n",
      "alpha =  8 \t46.667\n",
      "alpha =  16 \t42.76\n",
      "alpha =  32 \t39.288\n",
      "alpha =  64 \t36.05\n",
      "alpha =  128 \t32.777\n",
      "alpha =  256 \t28.731\n",
      "alpha =  512 \t23.802\n",
      "alpha =  1024 \t18.295\n"
     ]
    }
   ],
   "source": [
    "#########################\n",
    "# Solution\n",
    "#########################\n",
    "\n",
    "alphas = [0]+[2**i for i in range(0,11)]\n",
    "\n",
    "models = [linear_model.Ridge(alpha) for alpha in alphas]\n",
    "\n",
    "\n",
    "train_errors = []\n",
    "valid_errors = []\n",
    "test_errors = []\n",
    "coef_mags = []\n",
    "\n",
    "for model in models:\n",
    "    \n",
    "    # Fit the model to the training data\n",
    "    model.fit(x_train, y_train)\n",
    "    \n",
    "    # Predict the outputs y for the training, validation, and test data\n",
    "    y_train_pred = model.predict(x_train)\n",
    "    y_valid_pred = model.predict(x_valid)\n",
    "    y_test_pred = model.predict(x_test)\n",
    "    \n",
    "    # Calculate the mean-squared error of each set of predictions, and append to the appropriate lists\n",
    "    train_errors.append(mean_squared_error(y_train, y_train_pred))\n",
    "    valid_errors.append(mean_squared_error(y_valid, y_valid_pred))\n",
    "    test_errors.append(mean_squared_error(y_test, y_test_pred))\n",
    "    \n",
    "    # Calculate the norm of the coefficient vector and append to list\n",
    "    coef_mags.append(np.sum(np.abs(model.coef_)))\n",
    "    \n",
    "print 'training errors:'\n",
    "for i, model in enumerate(models):\n",
    "    print 'alpha = ', alphas[i], '\\t', round(train_errors[i],3)\n",
    "    \n",
    "print '\\nvalidation errors:'\n",
    "for i, model in enumerate(models):\n",
    "    print 'alpha = ', alphas[i], '\\t', round(valid_errors[i],3)\n",
    "    \n",
    "print '\\ntest errors:'\n",
    "for i, model in enumerate(models):\n",
    "    print 'alpha = ', alphas[i], '\\t', round(test_errors[i],3)\n",
    "    \n",
    "print '\\ncoefficients:'\n",
    "for i, model in enumerate(models):\n",
    "    print 'alpha = ', alphas[i], '\\t', round(coef_mags[i],3)"
   ]
  },
  {
   "cell_type": "markdown",
   "metadata": {},
   "source": [
    "### Now, let's plot the results!\n",
    "- *psst* did you put the values in lists with names as described above? Re-read the instructions above if the following doesn't evaluate!"
   ]
  },
  {
   "cell_type": "code",
   "execution_count": 130,
   "metadata": {
    "collapsed": false
   },
   "outputs": [
    {
     "data": {
      "image/png": "[encoded data removed]",
      "text/plain": [
       "<matplotlib.figure.Figure at 0x7f637aa00b10>"
      ]
     },
     "metadata": {},
     "output_type": "display_data"
    }
   ],
   "source": [
    "# Set up figure\n",
    "fig, axes = plt.subplots(1, 2, figsize = (16,6))\n",
    "\n",
    "# First plot\n",
    "plt.sca(axes[0])\n",
    "\n",
    "plt.semilogx(alphas[1:], train_errors[1:], lw = 3, label = 'Train', color = 'k', marker = 'o', markersize = 10)\n",
    "plt.semilogx(alphas[1:], valid_errors[1:], lw = 3, label = 'Validation', color = 'k', ls = ':', marker = 'o', markersize = 10)\n",
    "plt.semilogx(alphas[1:], test_errors[1:], lw = 3, label = 'Test', color = 'k', ls = '--', marker = 'o', markersize = 10)\n",
    "\n",
    "plt.scatter(alphas[1+np.argsort(np.array(valid_errors[1:]))[0]], min(valid_errors), color = 'red', marker = 'o', s = 100, zorder = 3, label = r'Optimum $\\alpha$')\n",
    "\n",
    "plt.xlim(.5, 2056)\n",
    "plt.ylim(-.05,13)\n",
    "\n",
    "plt.title('Train, validation, and test errors', size = 24)\n",
    "plt.xlabel(r'Regularization parameter $\\alpha$', size = 22)\n",
    "plt.ylabel(r'Mean square error', size = 22)\n",
    "\n",
    "plt.legend(fontsize = 18, loc = 'upper left', numpoints=1, scatterpoints=1)\n",
    "plt.grid()\n",
    "plt.tick_params(labelsize = 18)\n",
    "\n",
    "# Second plot\n",
    "plt.sca(axes[1])\n",
    "plt.semilogx(alphas[1:], coef_mags[1:], lw = 3, color = 'k', marker = 'o', markersize = 10)\n",
    "plt.xlim(.5, 2056)\n",
    "\n",
    "\n",
    "plt.title('Total parameter magnitude', size = 24)\n",
    "plt.xlabel(r'Regularization parameter $\\alpha$', size = 22)\n",
    "plt.ylabel(r'Parameter magnitude $\\sum_{i}|\\beta_{i}|$', size = 22)\n",
    "\n",
    "plt.grid()\n",
    "plt.tick_params(labelsize = 18)\n",
    "\n",
    "\n",
    "\n",
    "# Save, show\n",
    "plt.savefig('../figures/session_2/alpha_significance.png')\n",
    "plt.show()"
   ]
  },
  {
   "cell_type": "markdown",
   "metadata": {},
   "source": [
    "### Discuss the above plots\n",
    "- Some questions to think about:\n",
    "    - What happens to the training error as we dial up $\\alpha$?\n",
    "    - The optimum value of $\\alpha$ is given by the location of the minimum in the validation curve; are models to the left overfit or underfit? to the right?\n",
    "    - How is the right plot explained in terms of the Ridge cost function?\n",
    "$$Loss\\left(\\beta\\right)=\\frac{1}{N} \\sum_{i=1}^{N} (y_i - x_i^T\\beta)^2 + \\alpha \\sum_{d=1}^D \\beta_d^2$$"
   ]
  },
  {
   "cell_type": "markdown",
   "metadata": {},
   "source": [
    "## Cross validation\n",
    "\n",
    "- Using regularization with varying values of the *hyperparameter* $\\alpha$ above gave us a good way of selecting which $\\alpha$ to choose in our final model\n",
    "- However, the mean squared test error from the best $\\alpha$ is *still* not the best estimator of the error on new data!\n",
    "- Why? We overfit our regularization parameter $\\alpha$ to the validation set!\n",
    "- Remember, we calculated the validation error for each $\\alpha$ and choose the $\\alpha$ which minimized that error; if the validation data had been *slightly* different, we might have chosen a different optimal value of $\\alpha$\n",
    "- Consider the following plot:\n",
    "\n",
    "![https://github.com/"
   ]
  },
  {
   "cell_type": "code",
   "execution_count": 68,
   "metadata": {
    "collapsed": true
   },
   "outputs": [],
   "source": [
    "# load overfitting data into 'train' and 'test' sets\n",
    "with np.load('data/overfitting_data.npz') as data:\n",
    "    x_train = data['x_train']\n",
    "    y_train = data['y_train']\n",
    "    x_test = data['x_test']\n",
    "    y_test = data['y_test']\n",
    "\n",
    "# split the 'train' set into 'train' and 'validation' sets\n",
    "from sklearn.cross_validation import train_test_split\n",
    "validation_portion = 0.1\n",
    "seed_1 = 1234\n",
    "seed_2 = 7890\n",
    "x_train_1, x_valid_1, y_train_1, y_valid_1 = \\\n",
    "    train_test_split(x_train, y_train, test_size=validation_portion, random_state=seed_1)\n",
    "x_train_2, x_valid_2, y_train_2, y_valid_2 = \\\n",
    "    train_test_split(x_train, y_train, test_size=validation_portion, random_state=seed_2)"
   ]
  },
  {
   "cell_type": "code",
   "execution_count": 131,
   "metadata": {
    "collapsed": false
   },
   "outputs": [
    {
     "data": {
      "image/png": "[encoded data removed]",
      "text/plain": [
       "<matplotlib.figure.Figure at 0x7f63888f1fd0>"
      ]
     },
     "metadata": {},
     "output_type": "display_data"
    }
   ],
   "source": [
    "#########################\n",
    "# Solution\n",
    "#########################\n",
    "\n",
    "alphas = sorted([0]+[2**i for i in range(0,11)]+[24, 40])\n",
    "\n",
    "\n",
    "\n",
    "# Set up figure\n",
    "fig, axes = plt.subplots(1, 1, figsize = (12,9))\n",
    "\n",
    "lines = ['-', '--']\n",
    "\n",
    "for j, (x_train, y_train, x_valid, y_valid) in enumerate([(x_train_1, y_train_1, x_valid_1, y_valid_1),\n",
    "                                          (x_train_2, y_train_2, x_valid_2, y_valid_2)]):\n",
    "\n",
    "    models = [linear_model.Ridge(alpha) for alpha in alphas]\n",
    "    \n",
    "    train_errors = []\n",
    "    valid_errors = []\n",
    "    test_errors = []\n",
    "    coef_mags = []\n",
    "\n",
    "    for model in models:\n",
    "        \n",
    "        # Fit the model to the training data\n",
    "        model.fit(x_train, y_train)\n",
    "\n",
    "        # Predict the outputs y for the training, validation, and test data\n",
    "        y_train_pred = model.predict(x_train)\n",
    "        y_valid_pred = model.predict(x_valid)\n",
    "        #y_test_pred = model.predict(x_test)\n",
    "\n",
    "        # Calculate the mean-squared error of each set of predictions, and append to the appropriate lists\n",
    "        train_errors.append(mean_squared_error(y_train, y_train_pred))\n",
    "        valid_errors.append(mean_squared_error(y_valid, y_valid_pred))\n",
    "        #test_errors.append(mean_squared_error(y_test, y_test_pred))\n",
    "\n",
    "        # Calculate the norm of the coefficient vector and append to list\n",
    "        coef_mags.append(np.sum(np.abs(model.coef_)))\n",
    "\n",
    "    \n",
    "\n",
    "\n",
    "\n",
    "    #plt.semilogx(alphas[1:], train_errors[1:], lw = 3, label = 'Train', color = 'k', marker = 'o', markersize = 10)\n",
    "\n",
    "\n",
    "    plt.semilogx(alphas[1:], valid_errors[1:], lw = 3, label = 'Validation set '+str(j+1), color = 'k', ls = lines[j], marker = 'o', markersize = 10)\n",
    "\n",
    "\n",
    "plt.scatter(32, 3.82, color = 'red', s = 100, zorder = 3, label=r'Optimum $\\alpha$')\n",
    "plt.scatter(64, 4.415, color = 'red', s = 100, zorder = 3)\n",
    "    \n",
    "plt.xlim(.5, 2056)\n",
    "plt.ylim(2,10)\n",
    "\n",
    "plt.title(r'$\\alpha$ vs. mean square error for two different validation sets', size = 24)\n",
    "plt.xlabel(r'Regularization parameter $\\alpha$', size = 22)\n",
    "plt.ylabel(r'Mean square error', size = 22)\n",
    "\n",
    "plt.legend(fontsize = 18, loc = 'upper right', numpoints=1, scatterpoints=1)\n",
    "plt.grid()\n",
    "plt.tick_params(labelsize = 18)\n",
    "\n",
    "plt.savefig('../figures/session_2/alpha_variance.png')\n",
    "\n",
    "plt.show()"
   ]
  },
  {
   "cell_type": "markdown",
   "metadata": {},
   "source": [
    "- How do we overcome this dilemma?\n",
    "- Here's an idea: Instead of just using one training/validation split, let's use multiple splits and find which $\\alpha$ performs best *on average*\n",
    "- There are many ways of creating multiple training/validation splits, but we're going to use a method called k-folds cross-validation"
   ]
  },
  {
   "cell_type": "code",
   "execution_count": null,
   "metadata": {
    "collapsed": true
   },
   "outputs": [],
   "source": []
  },
  {
   "cell_type": "code",
   "execution_count": null,
   "metadata": {
    "collapsed": true
   },
   "outputs": [],
   "source": [
    "### Instructions:\n",
    "- Perform the following 2 times, with three different sets of training and test data\n",
    "- Train 5 models with regularization parameters $\\alpha$ in {24, 28, 32, 36, 40}\n",
    "- Calculate the training error, test error, and the magnitude of the coefficient vectors for each model\n",
    "- Store the values in lists named:\n",
    "    - 'train_errors'\n",
    "    - 'test_errors'\n",
    "    - 'coef_mags'\n",
    "    \n",
    "- **Hints: **\n",
    "    - We can train a non-regularized Linear Regression model using Ridge(alpha = 0)\n",
    "    - Python lists are very helpful here\n",
    "        - Create a list of all the alpha values, called alphas\n",
    "        - Create a list of models like so: `models=[linear_model.Ridge(alpha) for alpha in alphas]`\n",
    "        - Then, iterate over every model in a for loop, calculating the errors and coefficients and appending them to lists like so        \n"
   ]
  },
  {
   "cell_type": "code",
   "execution_count": 9,
   "metadata": {
    "collapsed": false
   },
   "outputs": [
    {
     "name": "stderr",
     "output_type": "stream",
     "text": [
      "/home/preston/anaconda3/envs/py27/lib/python2.7/site-packages/sklearn/cross_validation.py:44: DeprecationWarning: This module was deprecated in version 0.18 in favor of the model_selection module into which all the refactored classes and functions are moved. Also note that the interface of the new CV iterators are different from that of this module. This module will be removed in 0.20.\n",
      "  \"This module will be removed in 0.20.\", DeprecationWarning)\n"
     ]
    }
   ],
   "source": [
    "from sklearn.cross_validation import train_test_split"
   ]
  },
  {
   "cell_type": "code",
   "execution_count": 15,
   "metadata": {
    "collapsed": false
   },
   "outputs": [],
   "source": [
    "# load overfitting data\n",
    "with np.load('data/overfitting_data.npz') as data:\n",
    "    x_train = data['x_train']\n",
    "    y_train = data['y_train']\n",
    "    x_test = data['x_test']\n",
    "    y_test = data['y_test']"
   ]
  },
  {
   "cell_type": "code",
   "execution_count": 12,
   "metadata": {
    "collapsed": false
   },
   "outputs": [
    {
     "name": "stdout",
     "output_type": "stream",
     "text": [
      "(900,)\n"
     ]
    }
   ],
   "source": [
    "print y.shape"
   ]
  },
  {
   "cell_type": "code",
   "execution_count": 14,
   "metadata": {
    "collapsed": false
   },
   "outputs": [
    {
     "name": "stdout",
     "output_type": "stream",
     "text": [
      "0\n"
     ]
    },
    {
     "ename": "AttributeError",
     "evalue": "'numpy.float64' object has no attribute 'append'",
     "output_type": "error",
     "traceback": [
      "\u001b[1;31m---------------------------------------------------------------------------\u001b[0m",
      "\u001b[1;31mAttributeError\u001b[0m                            Traceback (most recent call last)",
      "\u001b[1;32m<ipython-input-14-67ae3a7804c7>\u001b[0m in \u001b[0;36m<module>\u001b[1;34m()\u001b[0m\n\u001b[0;32m     24\u001b[0m     \u001b[1;32mfor\u001b[0m \u001b[0mmodel\u001b[0m \u001b[1;32min\u001b[0m \u001b[0mmodels\u001b[0m\u001b[1;33m:\u001b[0m\u001b[1;33m\u001b[0m\u001b[0m\n\u001b[0;32m     25\u001b[0m         \u001b[0mtrain_error\u001b[0m\u001b[1;33m,\u001b[0m \u001b[0mtest_error\u001b[0m \u001b[1;33m=\u001b[0m \u001b[0mcalc_train_and_test_error\u001b[0m\u001b[1;33m(\u001b[0m\u001b[0mmodel\u001b[0m\u001b[1;33m,\u001b[0m \u001b[0mx_train\u001b[0m\u001b[1;33m,\u001b[0m \u001b[0my_train\u001b[0m\u001b[1;33m,\u001b[0m \u001b[0mx_test\u001b[0m\u001b[1;33m,\u001b[0m \u001b[0my_test\u001b[0m\u001b[1;33m)\u001b[0m\u001b[1;33m\u001b[0m\u001b[0m\n\u001b[1;32m---> 26\u001b[1;33m         \u001b[0mtrain_errors\u001b[0m\u001b[1;33m[\u001b[0m\u001b[0mi\u001b[0m\u001b[1;33m]\u001b[0m\u001b[1;33m.\u001b[0m\u001b[0mappend\u001b[0m\u001b[1;33m(\u001b[0m\u001b[0mtrain_error\u001b[0m\u001b[1;33m)\u001b[0m\u001b[1;33m\u001b[0m\u001b[0m\n\u001b[0m\u001b[0;32m     27\u001b[0m         \u001b[0mtest_errors\u001b[0m\u001b[1;33m[\u001b[0m\u001b[0mi\u001b[0m\u001b[1;33m]\u001b[0m\u001b[1;33m.\u001b[0m\u001b[0mappend\u001b[0m\u001b[1;33m(\u001b[0m\u001b[0mtest_error\u001b[0m\u001b[1;33m)\u001b[0m\u001b[1;33m\u001b[0m\u001b[0m\n\u001b[0;32m     28\u001b[0m         \u001b[0mcoef_mags\u001b[0m\u001b[1;33m[\u001b[0m\u001b[0mi\u001b[0m\u001b[1;33m]\u001b[0m\u001b[1;33m.\u001b[0m\u001b[0mappend\u001b[0m\u001b[1;33m(\u001b[0m\u001b[0mnp\u001b[0m\u001b[1;33m.\u001b[0m\u001b[0msum\u001b[0m\u001b[1;33m(\u001b[0m\u001b[0mnp\u001b[0m\u001b[1;33m.\u001b[0m\u001b[0mabs\u001b[0m\u001b[1;33m(\u001b[0m\u001b[0mmodel\u001b[0m\u001b[1;33m.\u001b[0m\u001b[0mcoef_\u001b[0m\u001b[1;33m)\u001b[0m\u001b[1;33m)\u001b[0m\u001b[1;33m)\u001b[0m\u001b[1;33m\u001b[0m\u001b[0m\n",
      "\u001b[1;31mAttributeError\u001b[0m: 'numpy.float64' object has no attribute 'append'"
     ]
    }
   ],
   "source": [
    "# Don't change this!\n",
    "best_alphas = []\n",
    "\n",
    "\n",
    "for i in range(2):\n",
    "    print i\n",
    "    alphas = [24, 28, 32, 36, 40]\n",
    "    #seed = seeds[i]\n",
    "    x_train, x_test, y_train, y_test = \\\n",
    "    train_test_split(x_train, y_train, test_size=0.1, random_state=int(1000*np.random.rand()))\n",
    "    \n",
    "    \n",
    "    \n",
    "    \n",
    "    # Insert code here---create the models, train, and test them!\n",
    "    models = [linear_model.Ridge(alpha) for alpha in alphas]\n",
    "\n",
    "\n",
    "\n",
    "    train_errors.append([])\n",
    "    test_errors.append([])\n",
    "    coef_mags.append([])\n",
    "\n",
    "    for model in models:\n",
    "        train_error, test_error = calc_train_and_test_error(model, x_train, y_train, x_test, y_test)\n",
    "        train_errors[i].append(train_error)\n",
    "        test_errors[i].append(test_error)\n",
    "        coef_mags[i].append(np.sum(np.abs(model.coef_)))\n",
    "\n",
    "    best_alphas.append(alphas[np.argmin(test_errors)])\n",
    "        \n",
    "    #print 'best alpha', alphas[np.argmin(test_errors)]\n",
    "    #print 'test error', test_errors[np.argmin(test_errors)]\n",
    "    "
   ]
  },
  {
   "cell_type": "code",
   "execution_count": null,
   "metadata": {
    "collapsed": false
   },
   "outputs": [],
   "source": [
    "# Set up figure\n",
    "fig, axes = plt.subplots(1, 2, figsize = (16,6))\n",
    "\n",
    "# First plot\n",
    "plt.sca(axes[0])\n",
    "\n",
    "plt.semilogx(alphas[1:], train_errors[0][1:], lw = 3, label = 'Train', color = 'k', marker = 'o', markersize = 10)\n",
    "plt.semilogx(alphas[1:], test_errors[0][1:], lw = 3, label = 'Test', color = 'k', ls = '--', marker = 'o', markersize = 10)\n",
    "\n",
    "plt.semilogx(alphas[1:], train_errors[1][1:], lw = 3, label = 'Train', color = 'gray', marker = 'o', markersize = 10)\n",
    "plt.semilogx(alphas[1:], test_errors[1][1:], lw = 3, label = 'Test', color = 'gray', ls = '--', marker = 'o', markersize = 10)\n",
    "\n",
    "plt.xlim(.5, 2056)\n",
    "plt.ylim(-.05,13)\n",
    "\n",
    "plt.title('Train and test errors vs regularization', size = 24)\n",
    "plt.xlabel(r'Regularization parameter $\\alpha$', size = 22)\n",
    "plt.ylabel(r'Mean square error', size = 22)\n",
    "\n",
    "plt.legend(fontsize = 18, loc = 'upper left')\n",
    "plt.grid()\n",
    "plt.tick_params(labelsize = 18)\n",
    "\n",
    "# Second plot\n",
    "plt.sca(axes[1])\n",
    "plt.semilogx(alphas[1:], coef_mags[0][1:], lw = 3, color = 'k', marker = 'o', markersize = 10)\n",
    "plt.xlim(.5, 2056)\n",
    "plt.semilogx(alphas[1:], coef_mags[1][1:], lw = 3, color = 'gray', marker = 'o', markersize = 10)\n",
    "plt.xlim(.5, 2056)\n",
    "\n",
    "\n",
    "plt.title('Total parameter magnitude', size = 24)\n",
    "plt.xlabel(r'Regularization parameter $\\alpha$', size = 22)\n",
    "plt.ylabel(r'Parameter magnitude $\\sum_{i}|\\theta_{i}|$', size = 22)\n",
    "\n",
    "plt.grid()\n",
    "plt.tick_params(labelsize = 18)\n",
    "\n",
    "# Show\n",
    "plt.show()"
   ]
  },
  {
   "cell_type": "code",
   "execution_count": null,
   "metadata": {
    "collapsed": true
   },
   "outputs": [],
   "source": []
  },
  {
   "cell_type": "code",
   "execution_count": null,
   "metadata": {
    "collapsed": false
   },
   "outputs": [],
   "source": [
    "print best_alphas"
   ]
  },
  {
   "cell_type": "markdown",
   "metadata": {},
   "source": [
    "### How do we fix this?\n",
    "\n",
    "- Create *another* data partition, this time called the **validation set**\n",
    "- In total we partition our original data into **training, validation, and test** sets\n",
    "1. Train a regularized model on the training data\n",
    "2. Test the trained model on the validation set; select the model with lowest $\\alpha$\n",
    "3. Calculate the error on the test data; this is our final prediction for how well our model performs on new data"
   ]
  },
  {
   "cell_type": "markdown",
   "metadata": {},
   "source": [
    "#### <span style=\"color:red\">Validation Set Cross Validation Exercise</span>\n",
    "1. Partner up.  On one computer:\n",
    "  1. Write a function with the call signature `validation_set_error(model, x_train, y_train, validation_portion=0.1, seed=1234)` which returns the validation set estimate of the future error for the given `model`. This function should:\n",
    "    1. Split the data into a reduced training set and a validation set\n",
    "    1. Train on the reduced training set\n",
    "    1. Estimate the mean squared error on the validation set\n",
    "    1. Return that estimate\n",
    "  1. Use your `calc_train_and_test_error(model, x_train, y_train, x_test, y_test)` function to calculate training and test set errors for these \n",
    "  1. Use this your `validation_set_error` function to estimate the future error on the overfitting data for:\n",
    "    1. A linear regression model\n",
    "    1. A ridge regression models with `alpha` = 10\n",
    "  1. Do this for multiple random seeds\n",
    "  1. Does validation error do a good job of predicting test error?\n",
    "  1. If you have time: How does changing the validation_portion affect the similarity between the validation and test error?\n"
   ]
  },
  {
   "cell_type": "code",
   "execution_count": null,
   "metadata": {
    "collapsed": false,
    "scrolled": true
   },
   "outputs": [],
   "source": [
    "# a helper function for performing validation set cross validation\n",
    "from sklearn.cross_validation import train_test_split\n",
    "validation_portion = 0.1\n",
    "seed = 1234\n",
    "x_train_small, x_valid, y_train_small, y_valid = \\\n",
    "    train_test_split(x_train, y_train, test_size=validation_portion, random_state=seed)\n",
    "\n",
    "print 'Original Training Set Size:'\n",
    "print x_train.shape, y_train.shape\n",
    "print\n",
    "\n",
    "print 'Reducted Training Set Size:'\n",
    "print x_train_small.shape, y_train_small.shape\n",
    "print\n",
    "\n",
    "print 'Validation Set Size:'\n",
    "print x_valid.shape, y_valid.shape\n",
    "print\n"
   ]
  },
  {
   "cell_type": "code",
   "execution_count": null,
   "metadata": {
    "collapsed": false
   },
   "outputs": [],
   "source": [
    "def validation_set_error(model, x_train, y_train, validation_portion=0.1, seed=1234):\n",
    "    ########## TODO REMOVE ME\n",
    "    ########## TODO REMOVE ME\n",
    "    ########## TODO REMOVE ME\n",
    "    ########## TODO REMOVE ME\n",
    "    ########## TODO REMOVE ME\n",
    "    ########## TODO REMOVE ME\n",
    "    ########## TODO REMOVE ME\n",
    "\n",
    "    x_train_small, x_valid, y_train_small, y_valid = \\\n",
    "        train_test_split(x_train, y_train, test_size=validation_portion, random_state=seed)\n",
    "    model.fit(x_train_small, y_train_small)\n",
    "    y_pred_valid = model.predict(x_valid)\n",
    "    return mean_squared_error(y_valid, y_pred_valid)\n",
    "    ########## TODO REMOVE ME\n",
    "    ########## TODO REMOVE ME\n",
    "    ########## TODO REMOVE ME\n",
    "    ########## TODO REMOVE ME\n",
    "    ########## TODO REMOVE ME\n",
    "    ########## TODO REMOVE ME\n",
    "    ########## TODO REMOVE ME\n",
    "    \n",
    "# set up models\n",
    "model_lr_valid = linear_model.LinearRegression()\n",
    "model_ridge_valid = linear_model.Ridge(alpha=10)\n",
    "\n",
    "# calculate errors\n",
    "valid_portion = .1\n",
    "n_seeds = 5\n",
    "print \"Linear Regression Training and Test Errors:\"\n",
    "########## TODO REMOVE ME\n",
    "########## TODO REMOVE ME\n",
    "########## TODO REMOVE ME\n",
    "########## TODO REMOVE ME\n",
    "########## TODO REMOVE ME\n",
    "########## TODO REMOVE ME\n",
    "########## TODO REMOVE ME\n",
    "print calc_train_and_test_error(model_lr_valid, x_train, y_train, x_test, y_test)\n",
    "########## TODO REMOVE ME\n",
    "########## TODO REMOVE ME\n",
    "########## TODO REMOVE ME\n",
    "########## TODO REMOVE ME\n",
    "########## TODO REMOVE ME\n",
    "########## TODO REMOVE ME\n",
    "########## TODO REMOVE ME\n",
    "\n",
    "print\n",
    "print \"Linear Regression Validation Errors:\"\n",
    "########## TODO REMOVE ME\n",
    "########## TODO REMOVE ME\n",
    "########## TODO REMOVE ME\n",
    "########## TODO REMOVE ME\n",
    "########## TODO REMOVE ME\n",
    "########## TODO REMOVE ME\n",
    "########## TODO REMOVE ME\n",
    "for seed in range(n_seeds):\n",
    "    print validation_set_error(model_lr_valid, x_train, y_train, validation_portion=valid_portion, seed=seed)\n",
    "    print\n",
    "########## TODO REMOVE ME\n",
    "########## TODO REMOVE ME\n",
    "########## TODO REMOVE ME\n",
    "########## TODO REMOVE ME\n",
    "########## TODO REMOVE ME\n",
    "########## TODO REMOVE ME\n",
    "########## TODO REMOVE ME\n",
    "\n",
    "print \"Ridge Regression Training and Test Errors:\"\n",
    "########## TODO REMOVE ME\n",
    "########## TODO REMOVE ME\n",
    "########## TODO REMOVE ME\n",
    "########## TODO REMOVE ME\n",
    "########## TODO REMOVE ME\n",
    "########## TODO REMOVE ME\n",
    "########## TODO REMOVE ME\n",
    "print calc_train_and_test_error(model_ridge_valid, x_train, y_train, x_test, y_test)\n",
    "########## TODO REMOVE ME\n",
    "########## TODO REMOVE ME\n",
    "########## TODO REMOVE ME\n",
    "########## TODO REMOVE ME\n",
    "########## TODO REMOVE ME\n",
    "########## TODO REMOVE ME\n",
    "########## TODO REMOVE ME\n",
    "\n",
    "print\n",
    "print \"Ridge Regression Validation Errors:\"\n",
    "########## TODO REMOVE ME\n",
    "########## TODO REMOVE ME\n",
    "########## TODO REMOVE ME\n",
    "########## TODO REMOVE ME\n",
    "########## TODO REMOVE ME\n",
    "########## TODO REMOVE ME\n",
    "########## TODO REMOVE ME\n",
    "for seed in range(n_seeds):\n",
    "    print validation_set_error(model_ridge_valid, x_train, y_train, validation_portion=valid_portion, seed=seed)\n",
    "    print\n",
    "########## TODO REMOVE ME\n",
    "########## TODO REMOVE ME\n",
    "########## TODO REMOVE ME\n",
    "########## TODO REMOVE ME\n",
    "########## TODO REMOVE ME\n",
    "########## TODO REMOVE ME\n",
    "########## TODO REMOVE ME"
   ]
  },
  {
   "cell_type": "markdown",
   "metadata": {},
   "source": [
    "### K-Fold Cross Validation\n",
    "K-Fold cross validation is another cross validation method for estimating the out-of-sample error of a model.  It works like this:\n",
    "\n",
    "1. Partition the training data into K folds\n",
    "2. For each fold k in 1 to K:\n",
    "  1. Train the model on all your data except the data in fold k\n",
    "  2. Record the error on the the data in fold k\n",
    "3. Estimate future error as average error across all folds"
   ]
  },
  {
   "cell_type": "code",
   "execution_count": null,
   "metadata": {
    "collapsed": false
   },
   "outputs": [],
   "source": [
    "Image(url='https://chrisjmccormick.files.wordpress.com/2013/07/10_fold_cv.png')"
   ]
  },
  {
   "cell_type": "markdown",
   "metadata": {},
   "source": [
    "* **Good:** Only wastes 100/k% of the data at a time\n",
    "* **Bad:** Takes k times long as just training one model, still wastes 100/k% of the data"
   ]
  },
  {
   "cell_type": "code",
   "execution_count": null,
   "metadata": {
    "collapsed": false
   },
   "outputs": [],
   "source": [
    "# scikit learn provides a useful object to help you perform kfold cross validation\n",
    "from sklearn.cross_validation import KFold\n",
    "\n",
    "n_data = len(y_train)\n",
    "fold_count = 0\n",
    "for train_reduced_row_ids, valid_row_ids in KFold(n_data, n_folds=4):\n",
    "    print\n",
    "    print \n",
    "    print \"FOLD %d:\" % fold_count\n",
    "    print \"-------\"\n",
    "    print(\"train_ids:\\n%s\\n\\nvalid_ids\\n%s\" % (train_reduced_row_ids, valid_row_ids))\n",
    "    x_train_reduced = x_train[train_reduced_row_ids]\n",
    "    y_train_reduced = y_train[train_reduced_row_ids]\n",
    "    x_valid = x_train[valid_row_ids]\n",
    "    y_valid = y_train[valid_row_ids]\n",
    "    fold_count += 1"
   ]
  },
  {
   "cell_type": "code",
   "execution_count": null,
   "metadata": {
    "collapsed": false
   },
   "outputs": [],
   "source": [
    "# NOTE: KFolds isn't random at all.  It's important to shuffle your data first before using it. \n",
    "from sklearn.utils import shuffle\n",
    "x_train_shuffled, y_train_shuffled = shuffle(x_train, y_train)"
   ]
  },
  {
   "cell_type": "markdown",
   "metadata": {},
   "source": [
    "#### <span style=\"color:red\">K-Fold Cross Validation Exercise</span>\n",
    "1. Partner up.  On one computer:\n",
    "  1. Write a function with the call signature `kfold_error(model, x_train, y_train, k=4, seed=1234)` which returns the k-fold cross validation estimate of the future error for the given `model`. This function should:\n",
    "    1. Shuffle the training data set (both $\\mathbf{x}$ and  $\\mathbf{y}$ in unison)\n",
    "    1. For each fold:\n",
    "        1. Split the data into a reduced training set and a validation set\n",
    "        1. Train on the reduced training set\n",
    "        1. Estimate the mean squared error on the validation set\n",
    "        1. Add the estimated error to a running sum of the estimated total error\n",
    "    1. Return the average error across folds: i.e.: the estimated total error divided by the number of folds\n",
    "  1. Use your `calc_train_and_test_error(model, x_train, y_train, x_test, y_test)` function to calculate training and test set errors for these \n",
    "  1. Use your `kfold_error` function with k=5 to estimate the future error on the overfitting data for:\n",
    "    1. A linear regression model\n",
    "    1. A ridge regression models with `alpha` = 10\n",
    "  1. Do this for multiple random seeds\n",
    "  1. Does k-fold error do a good job of predicting test error?"
   ]
  },
  {
   "cell_type": "code",
   "execution_count": null,
   "metadata": {
    "collapsed": false
   },
   "outputs": [],
   "source": [
    "def kfold_error(model, x_train, y_train, k=4, seed=1234):\n",
    "    ########## TODO REMOVE ME\n",
    "    ########## TODO REMOVE ME\n",
    "    ########## TODO REMOVE ME\n",
    "    ########## TODO REMOVE ME\n",
    "    ########## TODO REMOVE ME\n",
    "    ########## TODO REMOVE ME\n",
    "    ########## TODO REMOVE ME\n",
    "\n",
    "    # shuffle training data\n",
    "    x_train_shuffled, y_train_shuffled = shuffle(x_train, y_train, random_state=seed)\n",
    "\n",
    "    total_error = 0\n",
    "    \n",
    "    n_data = len(y_train)\n",
    "    for train_reduced_row_ids, valid_row_ids in KFold(n_data, n_folds=k):\n",
    "        x_train_reduced = x_train_shuffled[train_reduced_row_ids]\n",
    "        y_train_reduced = y_train_shuffled[train_reduced_row_ids]\n",
    "        x_valid = x_train_shuffled[valid_row_ids]\n",
    "        y_valid = y_train_shuffled[valid_row_ids]\n",
    "    \n",
    "        model.fit(x_train_reduced, y_train_reduced)\n",
    "        y_pred_valid = model.predict(x_valid)\n",
    "        total_error += mean_squared_error(y_valid, y_pred_valid)\n",
    "\n",
    "    return total_error / k\n",
    "    ########## TODO REMOVE ME\n",
    "    ########## TODO REMOVE ME\n",
    "    ########## TODO REMOVE ME\n",
    "    ########## TODO REMOVE ME\n",
    "    ########## TODO REMOVE ME\n",
    "    ########## TODO REMOVE ME\n",
    "    ########## TODO REMOVE ME   \n",
    "    \n",
    "# set up models\n",
    "model_lr_valid = linear_model.LinearRegression()\n",
    "model_ridge_valid = linear_model.Ridge(alpha=10)\n",
    "\n",
    "# calculate errors\n",
    "n_seeds = 3\n",
    "k = 5\n",
    "\n",
    "print \"Linear Regression Training and Test Errors:\"\n",
    "########## TODO REMOVE ME\n",
    "########## TODO REMOVE ME\n",
    "########## TODO REMOVE ME\n",
    "########## TODO REMOVE ME\n",
    "########## TODO REMOVE ME\n",
    "########## TODO REMOVE ME\n",
    "########## TODO REMOVE ME\n",
    "print calc_train_and_test_error(model_lr_valid, x_train, y_train, x_test, y_test)\n",
    "########## TODO REMOVE ME\n",
    "########## TODO REMOVE ME\n",
    "########## TODO REMOVE ME\n",
    "########## TODO REMOVE ME\n",
    "########## TODO REMOVE ME\n",
    "########## TODO REMOVE ME\n",
    "########## TODO REMOVE ME\n",
    "\n",
    "print\n",
    "print \"Linear Regression K-Fold Errors:\"\n",
    "########## TODO REMOVE ME\n",
    "########## TODO REMOVE ME\n",
    "########## TODO REMOVE ME\n",
    "########## TODO REMOVE ME\n",
    "########## TODO REMOVE ME\n",
    "########## TODO REMOVE ME\n",
    "########## TODO REMOVE ME\n",
    "for seed in range(n_seeds):\n",
    "    print kfold_error(model_lr_valid, x_train, y_train, k=k, seed=seed)\n",
    "    print\n",
    "########## TODO REMOVE ME\n",
    "########## TODO REMOVE ME\n",
    "########## TODO REMOVE ME\n",
    "########## TODO REMOVE ME\n",
    "########## TODO REMOVE ME\n",
    "########## TODO REMOVE ME\n",
    "########## TODO REMOVE ME\n",
    "\n",
    "print\n",
    "print \"Ridge Regression Training and Test Errors:\"\n",
    "########## TODO REMOVE ME\n",
    "########## TODO REMOVE ME\n",
    "########## TODO REMOVE ME\n",
    "########## TODO REMOVE ME\n",
    "########## TODO REMOVE ME\n",
    "########## TODO REMOVE ME\n",
    "########## TODO REMOVE ME\n",
    "print calc_train_and_test_error(model_ridge_valid, x_train, y_train, x_test, y_test)\n",
    "########## TODO REMOVE ME\n",
    "########## TODO REMOVE ME\n",
    "########## TODO REMOVE ME\n",
    "########## TODO REMOVE ME\n",
    "########## TODO REMOVE ME\n",
    "########## TODO REMOVE ME\n",
    "########## TODO REMOVE ME\n",
    "\n",
    "print\n",
    "print \"Ridge Regression K-Fold Errors:\"\n",
    "########## TODO REMOVE ME\n",
    "########## TODO REMOVE ME\n",
    "########## TODO REMOVE ME\n",
    "########## TODO REMOVE ME\n",
    "########## TODO REMOVE ME\n",
    "########## TODO REMOVE ME\n",
    "########## TODO REMOVE ME\n",
    "for seed in range(n_seeds):\n",
    "    print kfold_error(model_ridge_valid, x_train, y_train, k=k, seed=seed)\n",
    "    print    \n",
    "########## TODO REMOVE ME\n",
    "########## TODO REMOVE ME\n",
    "########## TODO REMOVE ME\n",
    "########## TODO REMOVE ME\n",
    "########## TODO REMOVE ME\n",
    "########## TODO REMOVE ME\n",
    "########## TODO REMOVE ME"
   ]
  },
  {
   "cell_type": "markdown",
   "metadata": {},
   "source": [
    "## Putting It All Together: Model and Hyperparameter Selection with Cross Validation\n",
    "1. For each model and hyperparameter combo you're willing to consider:\n",
    "  1. Estimate the model's performance on future data using cross validation\n",
    "2. Pick the model with the best estimated future performance\n",
    "3. Train the best model from scratch on the full dataset.  This is your final model"
   ]
  },
  {
   "cell_type": "code",
   "execution_count": null,
   "metadata": {
    "collapsed": false
   },
   "outputs": [],
   "source": [
    "def model_name(model):\n",
    "    s = model.__str__().lower()\n",
    "    if \"linearregression\" in s:\n",
    "        return 'LinearRegression'\n",
    "    elif \"lasso\" in s:\n",
    "        return 'Lasso(a=%g)' % model.alpha\n",
    "    elif \"ridge\" in s:\n",
    "        return 'Ridge(a=%g)' % model.alpha\n",
    "    elif \"elastic\" in s:\n",
    "        return 'ElasticNet(a=%g, r=%g)' % (model.alpha, model.l1_ratio)\n",
    "    else:\n",
    "        raise ValueError(\"Unknown Model Type\")\n",
    "\n",
    "def create_models(alphas=(.01, .03, .1, .3, 1, 3), l1_ratios=(.7, .5, .3)):\n",
    "    models = [linear_model.LinearRegression()]\n",
    "    models.extend([linear_model.Ridge(a) for a in alphas])\n",
    "    models.extend([linear_model.Lasso(a) for a in alphas])\n",
    "    models.extend([linear_model.ElasticNet(a, l1_ratio=l) for a in alphas for l in l1_ratios])\n",
    "    return models\n",
    "\n",
    "def results_df(models, betas_true, x_train, y_train, x_test, y_test, k=4):\n",
    "    n_data, n_dim = x_train.shape\n",
    "\n",
    "    n_zeros = n_dim - len(betas_true)\n",
    "    \n",
    "    betas_true = np.concatenate([betas_true, np.zeros(n_zeros)])\n",
    "    \n",
    "    # fit models to training data\n",
    "    [m.fit(x_train, y_train) for m in models]\n",
    "    \n",
    "    betas = np.vstack([betas_true] + [m.coef_ for m in models])\n",
    "    beta_names = ['Beta ' + str(i) for i in range(n_dim)]\n",
    "\n",
    "    # set up model names\n",
    "    model_names =  [\"True Coefs\"] + [model_name(m) for m in models]\n",
    "    df = pd.DataFrame(data=betas, columns=beta_names, index=model_names)\n",
    "\n",
    "    # calculate training errors\n",
    "    y_preds = [m.predict(x_train) for m in models]\n",
    "    errors = [np.nan] + [mean_squared_error(y_train, y_pred) for y_pred in y_preds]\n",
    "    df['Train Error'] = errors\n",
    "\n",
    "    # calculate validation errors\n",
    "    errors = [np.nan] + [kfold_error(m, x_train, y_train, k=k) for m in models]\n",
    "    df['Cross Validation Error'] = errors\n",
    "\n",
    "    # calculate test errors\n",
    "    y_preds = [m.predict(x_test) for m in models]\n",
    "    errors = [np.nan] + [mean_squared_error(y_test, y_pred) for y_pred in y_preds]\n",
    "    df['Test Error'] = errors\n",
    "\n",
    "    return df\n",
    "\n",
    "\n",
    "# these are some of the magic parameters that I used to actually \n",
    "# generate the overfitting dataset\n",
    "n_dim = 598\n",
    "n_dim_meaningful = 3\n",
    "n_dim_disp_extra = 2\n",
    "\n",
    "# the actual betas used to generate the y values.  the rest were 0.\n",
    "betas_true = np.arange(n_dim_meaningful) + 1\n",
    "\n",
    "# create a whole bunch of untrained models\n",
    "models = create_models(alphas=(.01, .03, .1, .3, 1), l1_ratios=(.9, .7, .5))\n",
    "\n",
    "# \n",
    "all_results = results_df(models, betas_true, x_train, y_train, x_test, y_test, k=4)\n",
    "\n",
    "# decide which columns we want to display\n",
    "disp_cols = [\"Beta \" + str(i) for i in range(n_dim_meaningful + n_dim_disp_extra)] \n",
    "disp_cols += ['Train Error', 'Cross Validation Error', 'Test Error']\n",
    "\n",
    "# display the results\n",
    "all_results[disp_cols]"
   ]
  },
  {
   "cell_type": "code",
   "execution_count": null,
   "metadata": {
    "collapsed": false
   },
   "outputs": [],
   "source": [
    "%matplotlib inline\n",
    "import matplotlib.pyplot as plt\n",
    "f = plt.figure()\n",
    "plt.scatter(all_results['Cross Validation Error'], all_results['Test Error'])\n",
    "plt.xlabel('Cross Validation Error')\n",
    "plt.ylabel('Test Error')\n",
    "f.set_size_inches(8, 8)\n",
    "plt.show()"
   ]
  },
  {
   "cell_type": "code",
   "execution_count": null,
   "metadata": {
    "collapsed": false
   },
   "outputs": [],
   "source": [
    "# scikit learn includes some functions for making cross validation easier \n",
    "# and computationally faster for a some models\n",
    "from sklearn import linear_model\n",
    "model_ridge_cv = linear_model.RidgeCV(alphas=[0.1, 1.0, 10.0])\n",
    "model_lasso_cv = linear_model.LassoCV(alphas=[0.1, 1.0, 10.0])\n",
    "model_en_cv = linear_model.ElasticNetCV(l1_ratio=[.9], n_alphas=100)"
   ]
  },
  {
   "cell_type": "markdown",
   "metadata": {},
   "source": [
    "## Caveats:\n",
    "* You can still overfit with intensive cross validation based model selection!\n",
    "* But it's much better than without"
   ]
  },
  {
   "cell_type": "markdown",
   "metadata": {},
   "source": [
    "## Summary:\n",
    "* **The Central Theses of Machine Learning:** \n",
    "  * We're only interested in predictive performance on unseen data, not on seen data.\n",
    "  * **Training error** estimates error on **seen** data\n",
    "  * **Cross validation error** estimates error on **unseen** data\n",
    "* **Regularization** strategies change how to train a model so that it will perform better on unseen data\n",
    "* We talked about three forms of regularization for linear regression:\n",
    "  * **Ridge Regression** (L2 Penalty)\n",
    "  * **LASSO** (L1 Penalty)\n",
    "  * **ElasticNet** (L1 + L2 Penalties)\n",
    "* We talked about two kinds of cross validation error:\n",
    "  * **Validation Error** -- split your training set into a reduced training set and a validation set\n",
    "  * **K-Fold Error** -- Split your training data into k reduced training sets and a validation sets\n",
    "* Regularization introduces new hyperparameters\n",
    "* Use a cross validated estimate of future performance to choose your model and hyperparameter settings"
   ]
  }
 ],
 "metadata": {
  "kernelspec": {
   "display_name": "Python 2",
   "language": "python",
   "name": "python2"
  },
  "language_info": {
   "codemirror_mode": {
    "name": "ipython",
    "version": 2
   },
   "file_extension": ".py",
   "mimetype": "text/x-python",
   "name": "python",
   "nbconvert_exporter": "python",
   "pygments_lexer": "ipython2",
   "version": "2.7.11"
  }
 },
 "nbformat": 4,
 "nbformat_minor": 0
}
