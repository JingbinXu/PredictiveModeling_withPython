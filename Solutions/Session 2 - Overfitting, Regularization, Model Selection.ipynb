{
 "cells": [
  {
   "cell_type": "code",
   "execution_count": 1,
   "metadata": {
    "collapsed": false
   },
   "outputs": [
    {
     "data": {
      "text/html": [
       "<img src=\"http://datascience.uci.edu/wp-content/uploads/sites/2/2014/09/data_science_logo_with_image1.png\"/>"
      ],
      "text/plain": [
       "<IPython.core.display.Image object>"
      ]
     },
     "execution_count": 1,
     "metadata": {},
     "output_type": "execute_result"
    }
   ],
   "source": [
    "import numpy as np\n",
    "import pandas as pd\n",
    "from IPython.display import Image\n",
    "import matplotlib.pyplot as plt\n",
    "%matplotlib inline\n",
    "Image(url='http://datascience.uci.edu/wp-content/uploads/sites/2/2014/09/data_science_logo_with_image1.png')"
   ]
  },
  {
   "cell_type": "markdown",
   "metadata": {},
   "source": [
    "## Predictive Modeling with Python - Overfitting, Regularization, Model Selection\n",
    "#### Author: Kevin Bache"
   ]
  },
  {
   "cell_type": "markdown",
   "metadata": {},
   "source": [
    "## Before Lunch:\n",
    "We created a linear model and saw that it performed well on already seen data but poorly on unseen data.\n",
    "\n",
    "\n",
    "**This session is about creating models that *generalize* better to new data. ~P**"
   ]
  },
  {
   "cell_type": "markdown",
   "metadata": {},
   "source": [
    "## Predictive Modeling\n",
    "\n",
    "\n",
    "What we saw above is a common setup.  We have $\\mathbf{X}$ and $\\mathbf{y}$ data from the past and $\\mathbf{X}$ data for the present for which we want to **predict** the future $\\mathbf{y}$ values.\n",
    "\n",
    "** We would like some way of quantifying how well our model will predict the future; how do we do this if we don't *know* the answer? ~P**\n",
    "\n",
    "** Simple! Take the data that we *do* know the correct output $y$ for and break it into two sets, the **Training Data** and **Test Data ~P**. \n",
    "\n",
    "We train a model on the **Training Data** and use that model to make predictions on the **Test Data**; if we perform well on the **Test Data** predictions, we are confident our model *generalizes* well to future data for which we do not know the answer! ~P**\n",
    "\n",
    "Furthermore, we can train models with differing parameters and choose the one that performs best on the test data! ~P\n",
    "\n",
    "~~We can generalize this notion of past / present data into what's generally called **train** and **test** data.~~\n",
    "\n",
    "* **Training Data** -- A dataset that we use to train our model.  We have both $\\mathbf{X}$ and $\\mathbf{y}$\n",
    "\n",
    "\n",
    "~~~* **Testing Data** -- A dataset which only has $\\mathbf{X}$ values and for which we need to predict $\\mathbf{y}$ values.  We might also have access to the real $\\mathbf{y}$ values so that we can test how well our model will perform on data it hasn't seen before.~~~\n",
    "\n",
    "\n",
    "* **Testing Data** -- A dataset that we use to test the performance of our model on. We generate predicted outputs $\\mathbf{y_{\\text{pred}}}$ from the test features $\\mathbf{X_{\\text{test}}}$ and our model's parameters $\\mathbf{\\theta}$, and compare the predicted outputs $\\mathbf{y_{\\text{pred}}}$ with the actual outputs, $\\mathbf{y_{\\text{test}}}$. ~P\n",
    "\n",
    "### <span style=\"color:red\">Model Fitting Exercise</span>\n",
    "1. Partner up.  On one computer:\n",
    "  1. Write a function with the call signature `predict_test_values(model, x_train, y_train, x_test)` where `model` is a scikit learn model\n",
    "    1. Fit the model on `x_train` and `y_train`\n",
    "    1. Predict the y values for `X_test`\n",
    "    1. Return a vector of predicted y values\n",
    "  1. Write a second function with the call signature `calc_train_and_test_error(model, x_train, y_train, x_test, y_test)`\n",
    "    1. Fit the model on `x_train` and `y_train`\n",
    "    1. Predict the y values for `x_test`\n",
    "    1. Predict the y values for `x_train`\n",
    "    1. Calculate the `mean_squared_error` on both the train and test data.\n",
    "    1. Return the train error and test error\n",
    "  1. Describe to your partner the situations in which you might use each function"
   ]
  },
  {
   "cell_type": "code",
   "execution_count": 2,
   "metadata": {
    "collapsed": true
   },
   "outputs": [],
   "source": [
    "def mean_squared_error(y_true, y_pred):\n",
    "    \"\"\"\n",
    "    calculate the mean_squared_error given a vector of true ys and a vector of predicted ys\n",
    "    \"\"\"\n",
    "    diff = y_true - y_pred\n",
    "    return np.dot(diff, diff) / len(diff)\n",
    "\n",
    "def predict_test_values(model, X_train, y_train, X_test):\n",
    "    ########## TODO REMOVE ME\n",
    "    ########## TODO REMOVE ME\n",
    "    ########## TODO REMOVE ME\n",
    "    ########## TODO REMOVE ME\n",
    "    ########## TODO REMOVE ME\n",
    "    ########## TODO REMOVE ME\n",
    "    ########## TODO REMOVE ME\n",
    "\n",
    "    model.fit(X_train, y_train)\n",
    "    return model.predict(X_test)\n",
    "\n",
    "    ########## TODO REMOVE ME\n",
    "    ########## TODO REMOVE ME\n",
    "    ########## TODO REMOVE ME\n",
    "    ########## TODO REMOVE ME\n",
    "    ########## TODO REMOVE ME\n",
    "    ########## TODO REMOVE ME\n",
    "    ########## TODO REMOVE ME\n",
    "\n",
    "def calc_train_and_test_error(model, X_train, y_train, X_test, y_test):\n",
    "\n",
    "    ########## TODO REMOVE ME\n",
    "    ########## TODO REMOVE ME\n",
    "    ########## TODO REMOVE ME\n",
    "    ########## TODO REMOVE ME\n",
    "    ########## TODO REMOVE ME\n",
    "    ########## TODO REMOVE ME\n",
    "    ########## TODO REMOVE ME\n",
    "\n",
    "    model.fit(X_train, y_train)\n",
    "    y_pred_train = model.predict(X_train)\n",
    "    y_pred_test = model.predict(X_test)\n",
    "    error_train = mean_squared_error(y_train, y_pred_train)\n",
    "    error_test = mean_squared_error(y_test, y_pred_test)\n",
    "\n",
    "    return error_train, error_test\n",
    "\n",
    "    ########## TODO REMOVE ME\n",
    "    ########## TODO REMOVE ME\n",
    "    ########## TODO REMOVE ME\n",
    "    ########## TODO REMOVE ME\n",
    "    ########## TODO REMOVE ME\n",
    "    ########## TODO REMOVE ME\n",
    "    ########## TODO REMOVE ME\n"
   ]
  },
  {
   "cell_type": "markdown",
   "metadata": {
    "collapsed": true
   },
   "source": [
    "## The Central Theses of Machine Learning\n",
    "### <span style=\"color:green\">**1) A predictive model is only as good as its predictions on unseen data **</span>\n",
    "\n",
    "### <span style=\"color:green\">**2) Error on the dataset we trained on is not a good predictor of error on future data**</span>\n",
    "\n",
    "- Question: Why doesn't a model that performs well on the training set perform well in the future?  ~P\n",
    "- Answer: **Overfitting.** ~P\n",
    "\n",
    "~~~Why isn't error on the training data a good indicator of future performance?  Overfitting.~~~"
   ]
  },
  {
   "cell_type": "markdown",
   "metadata": {},
   "source": [
    "### Overfitting in One Picture"
   ]
  },
  {
   "cell_type": "code",
   "execution_count": 3,
   "metadata": {
    "collapsed": false,
    "scrolled": true
   },
   "outputs": [
    {
     "data": {
      "text/html": [
       "<img src=\"http://radimrehurek.com/data_science_python/plot_bias_variance_examples_2.png\"/>"
      ],
      "text/plain": [
       "<IPython.core.display.Image object>"
      ]
     },
     "execution_count": 3,
     "metadata": {},
     "output_type": "execute_result"
    }
   ],
   "source": [
    "Image(url='http://radimrehurek.com/data_science_python/plot_bias_variance_examples_2.png')"
   ]
  },
  {
   "cell_type": "markdown",
   "metadata": {},
   "source": [
    "### Model description: ~P\n",
    "- d = 1: Two parameters: $y = \\theta_{0} + \\theta_{1}x_{1}$ (intercept + linear term) ~P\n",
    "- d = 2: Three parameters: $y = \\theta_{0} + \\theta_{1}x_{1} + \\theta_{2}x_{2}^{2}$ (intercept + linear term + quadratic term) ~P\n",
    "- d = 6: Seven parameters: $y = \\theta_{0} + \\theta_{1}x_{1} + ... + \\theta_{6}x^{6}$ (intercept + linear term + ... ) a 6th degree polynomial! ~P"
   ]
  },
  {
   "cell_type": "markdown",
   "metadata": {},
   "source": [
    "### Questions: ~P\n",
    "- Which of the above 3 models has the least error? ~P\n",
    "- Of the 3 models, which do you think is best? ~P"
   ]
  },
  {
   "cell_type": "markdown",
   "metadata": {},
   "source": [
    "## How to Fight Overfitting?\n",
    "~~~Ultimately we don't want to build a model which performs well on data we've already seen, we want to build a model which will perform well on data we haven't seen.~~~\n",
    "\n",
    "Our objective is not to perform well on data we already have the answer for. ~P\n",
    "\n",
    "Our objective to build a model which will perform well on data we *haven't* seen.~P\n",
    "\n",
    "We want a model that *generalizes* to new data.~P\n",
    "\n",
    "~~~There are two linked strategies for to accomplish this: **regularization** and **model selection**.~~~\n",
    "\n",
    "There are two linked strategies for obtaining models that generalize well: **regularization** and **model selection**. ~P"
   ]
  },
  {
   "cell_type": "markdown",
   "metadata": {},
   "source": [
    "## Regularization\n",
    "The idea in regularization is that we're going to modify our loss function to penalize it for being too complex. Simple models are better**, as the above plots clearly show ~P**.\n",
    "\n",
    "One way to do this is to try to keep our regression coefficients small. Why would we want to do this? One intuitive explanation is that if we have big regression coefficients we'll get large changes in the predicted values from small changes in input value.  That's bad. Intuitively, our predictions should vary smoothly with the data.\n",
    "\n",
    "So a model with smaller coefficients makes smoother predictions.  It is simpler, which means it will have a harder time overfitting. \n",
    "\n",
    "We can change our linear regression loss function to help us reduce overfitting:\n",
    "\n",
    "### Linear Regression Loss Function\n",
    "\\begin{eqnarray*}\n",
    "    Loss(\\beta) = MSE &=& \\frac{1}{N} \\sum_{i=1}^{N} (y_i - \\hat y_i)^2 \\\\\n",
    "    &=& \\frac{1}{N} \\sum_{i=1}^{N} (y_i - x_i^T\\beta)^2 \\\\   \n",
    "\\end{eqnarray*}\n",
    "\n",
    "### Linear Regression Loss Function __with Regularization__\n",
    "~~~### L2 Regularized Linear Regression Loss Function -- \"Ridge\"~~~\n",
    "\\begin{eqnarray*}\n",
    "    Loss(\\beta) &=& \\frac{1}{N} \\sum_{i=1}^{N} (y_i - x_i^T\\beta)^2 + \\alpha ||\\beta||_2^2\\\\\n",
    "    &=& \\frac{1}{N} \\sum_{i=1}^{N} (y_i - x_i^T\\beta)^2 + \\alpha \\beta^T \\beta\\\\\n",
    "    &=& \\frac{1}{N} \\sum_{i=1}^{N} (y_i - x_i^T\\beta)^2 + \\alpha \\sum_{d=1}^D \\beta_d^2\\\\\n",
    "\\end{eqnarray*}"
   ]
  },
  {
   "cell_type": "markdown",
   "metadata": {},
   "source": [
    "**By the way, there are lots of types of regularization that can be used; we chose something called 'Ridge Regression' which uses the L2 norm. ~P**\n",
    "\n",
    "We won't get into details, but a ridge regression model can be optimized in much the same way as an unregularized linear regression: either with using some form of gradient descent or matrix-based solutions. "
   ]
  },
  {
   "cell_type": "code",
   "execution_count": 4,
   "metadata": {
    "collapsed": false
   },
   "outputs": [],
   "source": [
    "# Ridge Regression in scikit-learn\n",
    "from sklearn import linear_model\n",
    "model_ridge = linear_model.Ridge(alpha = .5)\n",
    "\n",
    "# once it's been fit, you can look at the learned beta values of the model with: model_ridge.coef_"
   ]
  },
  {
   "cell_type": "markdown",
   "metadata": {},
   "source": [
    "## Big changes to this part... ~P\n",
    "    - Emphasize $alpha$ fitting over teaching different regularization types\n",
    "    - Simply state that there are many different types of regularization\n",
    "    - Use Ridge Regression as the default"
   ]
  },
  {
   "cell_type": "markdown",
   "metadata": {},
   "source": [
    "### <span style=\"color:red\">Ridge Regression Errors</span>\n",
    "1. Partner up.  On one computer:\n",
    "  1. Using your `calc_train_and_test_error` function from the previous exercise:\n",
    "    1. Calculate the training and testing error for a LinearRegression model on the dataset below, which has `alpha=0`\n",
    "    1. Calculate the training and testing error for a Ridge regression model with `alpha=1` on the dataset below\n",
    "  1. Add up the absolute values of the coefficients of each model. Which is bigger?\n",
    "\n",
    "     **Note:** If you have a fit model called `m`, then you can access a vector holding its learned coefficients with `m.coef_`.  \n",
    "      \n",
    "     **Note:** Check out the functions `np.sum()` and `np.abs()`\n",
    "\n",
    "  1. Discuss with your partner what's happening here"
   ]
  },
  {
   "cell_type": "code",
   "execution_count": 5,
   "metadata": {
    "collapsed": true
   },
   "outputs": [],
   "source": [
    "# load overfitting data\n",
    "with np.load('data/overfitting_data.npz') as data:\n",
    "    x_train = data['x_train']\n",
    "    y_train = data['y_train']\n",
    "    x_test = data['x_test']\n",
    "    y_test = data['y_test']"
   ]
  },
  {
   "cell_type": "code",
   "execution_count": 6,
   "metadata": {
    "collapsed": false
   },
   "outputs": [
    {
     "name": "stdout",
     "output_type": "stream",
     "text": [
      "Linear Regression Training and Test Errors:\n",
      "(2.4835421623894108e-05, 283.52728792175401)\n",
      "\n",
      "Ridge Regression Training and Test Errors:\n",
      "(0.018634112597992292, 9.5641560683729381)\n",
      "\n",
      "Sum of Linear Regression Coefficients:\n",
      "338.387469048\n",
      "\n",
      "Sum of Ridge Regression Coefficients:\n",
      "62.4912904062\n",
      "\n"
     ]
    }
   ],
   "source": [
    "model_lr = linear_model.LinearRegression()\n",
    "model_ridge = linear_model.Ridge(alpha = 1)\n",
    "\n",
    "print \"Linear Regression Training and Test Errors:\"\n",
    "print calc_train_and_test_error(model_lr, x_train, y_train, x_test, y_test)\n",
    "print\n",
    "\n",
    "print \"Ridge Regression Training and Test Errors:\"\n",
    "print calc_train_and_test_error(model_ridge, x_train, y_train, x_test, y_test)\n",
    "print\n",
    "\n",
    "print \"Sum of Linear Regression Coefficients:\"\n",
    "print np.sum(np.abs(model_lr.coef_))\n",
    "print\n",
    "\n",
    "print \"Sum of Ridge Regression Coefficients:\"\n",
    "print np.sum(np.abs(model_ridge.coef_))\n",
    "print"
   ]
  },
  {
   "cell_type": "markdown",
   "metadata": {},
   "source": [
    "### Regularization is awesome!\n",
    "\n",
    "- If the above steps were completed correctly, then you should have created and trained a *regularized* model that performs better than the plain model! Great job!\n",
    "\n",
    "- This method is clearly very powerful, but it raises a question:\n",
    "\n",
    "### How do we choose the regularization parameter, $\\alpha$?\n",
    "\n",
    "- Let's try a bunch of different regularization parameter values and see which one performs best on the testing data!\n",
    "\n",
    "### Instructions:\n",
    "\n",
    "- Train 12 models with regularization parameters $\\alpha$ in {0, 1, 2, 4, 8, ... , 512, 1024}\n",
    "- Calculate the training error, test error, and the magnitude of the coefficient vectors for each model\n",
    "- Store the values in lists named:\n",
    "    - 'train_errors'\n",
    "    - 'test_errors'\n",
    "    - 'coef_mags'\n",
    "    \n",
    "- **Hints: **\n",
    "    - We can train a non-regularized Linear Regression model using Ridge(alpha = 0)\n",
    "    - Python lists are very helpful here\n",
    "        - Create a list of all the alpha values, called alphas\n",
    "        - Create a list of models like so: `models=[linear_model.Ridge(alpha) for alpha in alphas]`\n",
    "        - Then, iterate over every model in a for loop, calculating the errors and coefficients and appending them to lists like so        "
   ]
  },
  {
   "cell_type": "code",
   "execution_count": 7,
   "metadata": {
    "collapsed": false
   },
   "outputs": [
    {
     "name": "stdout",
     "output_type": "stream",
     "text": [
      "alpha =  0\n",
      "\t train, test:  2.48354216239e-05 283.527287922\n",
      "\t coef_mags:  338.387469048\n",
      "alpha =  1\n",
      "\t train, test:  0.018634112598 9.56415606837\n",
      "\t coef_mags:  62.4912904062\n",
      "alpha =  2\n",
      "\t train, test:  0.0261455705114 7.38461906223\n",
      "\t coef_mags:  54.4864373258\n",
      "alpha =  4\n",
      "\t train, test:  0.0372895246621 5.97661117775\n",
      "\t coef_mags:  48.2271618219\n",
      "alpha =  8\n",
      "\t train, test:  0.055531319285 5.10882584222\n",
      "\t coef_mags:  43.5860855718\n",
      "alpha =  16\n",
      "\t train, test:  0.0892939200836 4.64910222358\n",
      "\t coef_mags:  40.1074579205\n",
      "alpha =  32\n",
      "\t train, test:  0.158471165918 4.54839062215\n",
      "\t coef_mags:  37.1167124956\n",
      "alpha =  64\n",
      "\t train, test:  0.30572345562 4.84205530866\n",
      "\t coef_mags:  34.5273513267\n",
      "alpha =  128\n",
      "\t train, test:  0.615746651614 5.58928305543\n",
      "\t coef_mags:  31.7445360729\n",
      "alpha =  256\n",
      "\t train, test:  1.24031423242 6.80932599694\n",
      "\t coef_mags:  28.2284040077\n",
      "alpha =  512\n",
      "\t train, test:  2.39153517362 8.45141109631\n",
      "\t coef_mags:  23.7307400014\n",
      "alpha =  1024\n",
      "\t train, test:  4.22408974832 10.3605723974\n",
      "\t coef_mags:  18.4807526129\n"
     ]
    }
   ],
   "source": [
    "alphas = [0]+[2**i for i in range(0,11)]\n",
    "\n",
    "models = [linear_model.Ridge(alpha) for alpha in alphas]\n",
    "\n",
    "\n",
    "\n",
    "train_errors = []\n",
    "test_errors = []\n",
    "coef_mags = []\n",
    "\n",
    "for model in models:\n",
    "    train_error, test_error = calc_train_and_test_error(model, x_train, y_train, x_test, y_test)\n",
    "    train_errors.append(train_error)\n",
    "    test_errors.append(test_error)\n",
    "    coef_mags.append(np.sum(np.abs(model.coef_)))\n",
    "    \n",
    "\n",
    "for i, model in enumerate(models):\n",
    "    print 'alpha = ', alphas[i]\n",
    "    print '\\t train, test: ', train_errors[i], test_errors[i]\n",
    "    print '\\t coef_mags: ', coef_mags[i]\n",
    "    "
   ]
  },
  {
   "cell_type": "markdown",
   "metadata": {},
   "source": [
    "### Now, let's plot the results!\n",
    "- *psst* did you put the values in lists with names as described above? Read the instructions above if the following doesn't evaluate"
   ]
  },
  {
   "cell_type": "code",
   "execution_count": 8,
   "metadata": {
    "collapsed": false
   },
   "outputs": [
    {
     "data": {
      "image/png": "[encoded data removed]",
      "text/plain": [
       "<matplotlib.figure.Figure at 0x7fb7d8ce5750>"
      ]
     },
     "metadata": {},
     "output_type": "display_data"
    }
   ],
   "source": [
    "# Set up figure\n",
    "fig, axes = plt.subplots(1, 2, figsize = (16,6))\n",
    "\n",
    "# First plot\n",
    "plt.sca(axes[0])\n",
    "\n",
    "plt.semilogx(alphas[1:], train_errors[1:], lw = 3, label = 'Train', color = 'k', marker = 'o', markersize = 10)\n",
    "plt.semilogx(alphas[1:], test_errors[1:], lw = 3, label = 'Test', color = 'k', ls = '--', marker = 'o', markersize = 10)\n",
    "\n",
    "plt.xlim(.5, 2056)\n",
    "plt.ylim(-.05,13)\n",
    "\n",
    "plt.title('Train and test errors vs regularization', size = 24)\n",
    "plt.xlabel(r'Regularization parameter $\\alpha$', size = 22)\n",
    "plt.ylabel(r'Mean square error', size = 22)\n",
    "\n",
    "plt.legend(fontsize = 18, loc = 'upper left')\n",
    "plt.grid()\n",
    "plt.tick_params(labelsize = 18)\n",
    "\n",
    "# Second plot\n",
    "plt.sca(axes[1])\n",
    "plt.semilogx(alphas[1:], coef_mags[1:], lw = 3, color = 'k', marker = 'o', markersize = 10)\n",
    "plt.xlim(.5, 2056)\n",
    "\n",
    "\n",
    "plt.title('Total parameter magnitude', size = 24)\n",
    "plt.xlabel(r'Regularization parameter $\\alpha$', size = 22)\n",
    "plt.ylabel(r'Parameter magnitude $\\sum_{i}|\\theta_{i}|$', size = 22)\n",
    "\n",
    "plt.grid()\n",
    "plt.tick_params(labelsize = 18)\n",
    "\n",
    "# Show\n",
    "plt.show()"
   ]
  },
  {
   "cell_type": "markdown",
   "metadata": {},
   "source": [
    "### Discuss the above plots\n",
    "- Some questions to think about:\n",
    "    - What happens to the training error as we dial up $\\alpha$?\n",
    "    - The minimum in the test error is the optimum model; are models to the left overfit or underfit? to the right?\n",
    "    - How is the right plot explained in terms of the Ridge cost function,\n",
    "    $$Loss\\left(\\beta\\right)=\\frac{1}{N} \\sum_{i=1}^{N} (y_i - x_i^T\\beta)^2 + \\alpha \\sum_{d=1}^D \\beta_d^2$$"
   ]
  },
  {
   "cell_type": "markdown",
   "metadata": {},
   "source": [
    "## Cross validation\n",
    "\n",
    "- Using regularization with varying values of the *hyperparameter* $\\alpha$ above gave us a good way of selecting which $\\alpha$ to choose in our final model\n",
    "- However, the mean squared test error from the best $\\alpha$ is *still* not the best estimator of the error on new data!\n",
    "- Why? We overfit our regularization parameter $\\alpha$!\n",
    "- Remember, we calculated the test error for each $\\alpha$ and choose the $\\alpha$ which minimized that error; if the test data had been *slightly* different, we might have chosen a different optimal value of $\\alpha$\n",
    "- Let's see what happens when we rerun the same process above 3 times with shuffled versions of the training and test data\n",
    "\n",
    "### Instructions:\n",
    "- Perform the following 3 times, with three different sets of training and test data\n",
    "- Train 5 models with regularization parameters $\\alpha$ in {24, 28, 32, 36, 40}\n",
    "- Calculate the training error, test error, and the magnitude of the coefficient vectors for each model\n",
    "- Store the values in lists named:\n",
    "    - 'train_errors'\n",
    "    - 'test_errors'\n",
    "    - 'coef_mags'\n",
    "    \n",
    "- **Hints: **\n",
    "    - We can train a non-regularized Linear Regression model using Ridge(alpha = 0)\n",
    "    - Python lists are very helpful here\n",
    "        - Create a list of all the alpha values, called alphas\n",
    "        - Create a list of models like so: `models=[linear_model.Ridge(alpha) for alpha in alphas]`\n",
    "        - Then, iterate over every model in a for loop, calculating the errors and coefficients and appending them to lists like so        \n",
    "\n"
   ]
  },
  {
   "cell_type": "code",
   "execution_count": 9,
   "metadata": {
    "collapsed": false
   },
   "outputs": [
    {
     "name": "stderr",
     "output_type": "stream",
     "text": [
      "/home/preston/anaconda3/envs/py27/lib/python2.7/site-packages/sklearn/cross_validation.py:44: DeprecationWarning: This module was deprecated in version 0.18 in favor of the model_selection module into which all the refactored classes and functions are moved. Also note that the interface of the new CV iterators are different from that of this module. This module will be removed in 0.20.\n",
      "  \"This module will be removed in 0.20.\", DeprecationWarning)\n"
     ]
    }
   ],
   "source": [
    "from sklearn.cross_validation import train_test_split"
   ]
  },
  {
   "cell_type": "code",
   "execution_count": 10,
   "metadata": {
    "collapsed": false
   },
   "outputs": [
    {
     "name": "stdout",
     "output_type": "stream",
     "text": [
      "600\n"
     ]
    }
   ],
   "source": [
    "print x_train.shape[0]"
   ]
  },
  {
   "cell_type": "code",
   "execution_count": 11,
   "metadata": {
    "collapsed": false
   },
   "outputs": [],
   "source": [
    "# load overfitting data\n",
    "with np.load('data/overfitting_data.npz') as data:\n",
    "    x_train = data['x_train']\n",
    "    y_train = data['y_train']\n",
    "    x_test = data['x_test']\n",
    "    y_test = data['y_test']\n",
    "    \n",
    "    x = np.vstack((x_train, x_test))\n",
    "    y = np.hstack((y_train, y_test))"
   ]
  },
  {
   "cell_type": "code",
   "execution_count": 12,
   "metadata": {
    "collapsed": false
   },
   "outputs": [
    {
     "name": "stdout",
     "output_type": "stream",
     "text": [
      "(900,)\n"
     ]
    }
   ],
   "source": [
    "print y.shape"
   ]
  },
  {
   "cell_type": "code",
   "execution_count": 13,
   "metadata": {
    "collapsed": false
   },
   "outputs": [
    {
     "name": "stdout",
     "output_type": "stream",
     "text": [
      "0\n"
     ]
    },
    {
     "ename": "AttributeError",
     "evalue": "'numpy.float64' object has no attribute 'append'",
     "output_type": "error",
     "traceback": [
      "\u001b[1;31m---------------------------------------------------------------------------\u001b[0m",
      "\u001b[1;31mAttributeError\u001b[0m                            Traceback (most recent call last)",
      "\u001b[1;32m<ipython-input-13-c30a28f08abc>\u001b[0m in \u001b[0;36m<module>\u001b[1;34m()\u001b[0m\n\u001b[0;32m     22\u001b[0m     \u001b[1;32mfor\u001b[0m \u001b[0mmodel\u001b[0m \u001b[1;32min\u001b[0m \u001b[0mmodels\u001b[0m\u001b[1;33m:\u001b[0m\u001b[1;33m\u001b[0m\u001b[0m\n\u001b[0;32m     23\u001b[0m         \u001b[0mtrain_error\u001b[0m\u001b[1;33m,\u001b[0m \u001b[0mtest_error\u001b[0m \u001b[1;33m=\u001b[0m \u001b[0mcalc_train_and_test_error\u001b[0m\u001b[1;33m(\u001b[0m\u001b[0mmodel\u001b[0m\u001b[1;33m,\u001b[0m \u001b[0mx_train\u001b[0m\u001b[1;33m,\u001b[0m \u001b[0my_train\u001b[0m\u001b[1;33m,\u001b[0m \u001b[0mx_test\u001b[0m\u001b[1;33m,\u001b[0m \u001b[0my_test\u001b[0m\u001b[1;33m)\u001b[0m\u001b[1;33m\u001b[0m\u001b[0m\n\u001b[1;32m---> 24\u001b[1;33m         \u001b[0mtrain_errors\u001b[0m\u001b[1;33m[\u001b[0m\u001b[0mi\u001b[0m\u001b[1;33m]\u001b[0m\u001b[1;33m.\u001b[0m\u001b[0mappend\u001b[0m\u001b[1;33m(\u001b[0m\u001b[0mtrain_error\u001b[0m\u001b[1;33m)\u001b[0m\u001b[1;33m\u001b[0m\u001b[0m\n\u001b[0m\u001b[0;32m     25\u001b[0m         \u001b[0mtest_errors\u001b[0m\u001b[1;33m[\u001b[0m\u001b[0mi\u001b[0m\u001b[1;33m]\u001b[0m\u001b[1;33m.\u001b[0m\u001b[0mappend\u001b[0m\u001b[1;33m(\u001b[0m\u001b[0mtest_error\u001b[0m\u001b[1;33m)\u001b[0m\u001b[1;33m\u001b[0m\u001b[0m\n\u001b[0;32m     26\u001b[0m         \u001b[0mcoef_mags\u001b[0m\u001b[1;33m[\u001b[0m\u001b[0mi\u001b[0m\u001b[1;33m]\u001b[0m\u001b[1;33m.\u001b[0m\u001b[0mappend\u001b[0m\u001b[1;33m(\u001b[0m\u001b[0mnp\u001b[0m\u001b[1;33m.\u001b[0m\u001b[0msum\u001b[0m\u001b[1;33m(\u001b[0m\u001b[0mnp\u001b[0m\u001b[1;33m.\u001b[0m\u001b[0mabs\u001b[0m\u001b[1;33m(\u001b[0m\u001b[0mmodel\u001b[0m\u001b[1;33m.\u001b[0m\u001b[0mcoef_\u001b[0m\u001b[1;33m)\u001b[0m\u001b[1;33m)\u001b[0m\u001b[1;33m)\u001b[0m\u001b[1;33m\u001b[0m\u001b[0m\n",
      "\u001b[1;31mAttributeError\u001b[0m: 'numpy.float64' object has no attribute 'append'"
     ]
    }
   ],
   "source": [
    "# Don't change this!\n",
    "best_alphas = []\n",
    "\n",
    "\n",
    "\n",
    "for i in range(2):\n",
    "    print i\n",
    "    alphas = [24, 28, 32, 36, 40]\n",
    "    #seed = seeds[i]\n",
    "    x_train, x_test, y_train, y_test = \\\n",
    "    train_test_split(x, y, test_size=0.1, random_state=int(1000*np.random.rand()))\n",
    "    \n",
    "    \n",
    "    \n",
    "    \n",
    "    # Insert code here---create the models, train, and test them!\n",
    "    models = [linear_model.Ridge(alpha) for alpha in alphas]\n",
    "\n",
    "\n",
    "\n",
    "    train_errors.append([])\n",
    "    test_errors.append([])\n",
    "    coef_mags.append([])\n",
    "\n",
    "    for model in models:\n",
    "        train_error, test_error = calc_train_and_test_error(model, x_train, y_train, x_test, y_test)\n",
    "        train_errors[i].append(train_error)\n",
    "        test_errors[i].append(test_error)\n",
    "        coef_mags[i].append(np.sum(np.abs(model.coef_)))\n",
    "\n",
    "    best_alphas.append(alphas[np.argmin(test_errors)])\n",
    "        \n",
    "    #print 'best alpha', alphas[np.argmin(test_errors)]\n",
    "    #print 'test error', test_errors[np.argmin(test_errors)]\n",
    "    "
   ]
  },
  {
   "cell_type": "code",
   "execution_count": null,
   "metadata": {
    "collapsed": false
   },
   "outputs": [],
   "source": [
    "# Set up figure\n",
    "fig, axes = plt.subplots(1, 2, figsize = (16,6))\n",
    "\n",
    "# First plot\n",
    "plt.sca(axes[0])\n",
    "\n",
    "plt.semilogx(alphas[1:], train_errors[0][1:], lw = 3, label = 'Train', color = 'k', marker = 'o', markersize = 10)\n",
    "plt.semilogx(alphas[1:], test_errors[0][1:], lw = 3, label = 'Test', color = 'k', ls = '--', marker = 'o', markersize = 10)\n",
    "\n",
    "plt.semilogx(alphas[1:], train_errors[1][1:], lw = 3, label = 'Train', color = 'gray', marker = 'o', markersize = 10)\n",
    "plt.semilogx(alphas[1:], test_errors[1][1:], lw = 3, label = 'Test', color = 'gray', ls = '--', marker = 'o', markersize = 10)\n",
    "\n",
    "plt.xlim(.5, 2056)\n",
    "plt.ylim(-.05,13)\n",
    "\n",
    "plt.title('Train and test errors vs regularization', size = 24)\n",
    "plt.xlabel(r'Regularization parameter $\\alpha$', size = 22)\n",
    "plt.ylabel(r'Mean square error', size = 22)\n",
    "\n",
    "plt.legend(fontsize = 18, loc = 'upper left')\n",
    "plt.grid()\n",
    "plt.tick_params(labelsize = 18)\n",
    "\n",
    "# Second plot\n",
    "plt.sca(axes[1])\n",
    "plt.semilogx(alphas[1:], coef_mags[0][1:], lw = 3, color = 'k', marker = 'o', markersize = 10)\n",
    "plt.xlim(.5, 2056)\n",
    "plt.semilogx(alphas[1:], coef_mags[1][1:], lw = 3, color = 'gray', marker = 'o', markersize = 10)\n",
    "plt.xlim(.5, 2056)\n",
    "\n",
    "\n",
    "plt.title('Total parameter magnitude', size = 24)\n",
    "plt.xlabel(r'Regularization parameter $\\alpha$', size = 22)\n",
    "plt.ylabel(r'Parameter magnitude $\\sum_{i}|\\theta_{i}|$', size = 22)\n",
    "\n",
    "plt.grid()\n",
    "plt.tick_params(labelsize = 18)\n",
    "\n",
    "# Show\n",
    "plt.show()"
   ]
  },
  {
   "cell_type": "code",
   "execution_count": null,
   "metadata": {
    "collapsed": true
   },
   "outputs": [],
   "source": []
  },
  {
   "cell_type": "code",
   "execution_count": null,
   "metadata": {
    "collapsed": false
   },
   "outputs": [],
   "source": [
    "print best_alphas"
   ]
  },
  {
   "cell_type": "markdown",
   "metadata": {},
   "source": [
    "### How do we fix this?\n",
    "\n",
    "- Create *another* data partition, this time called the **validation set**\n",
    "- In total we partition our original data into **training, validation, and test** sets\n",
    "1. Train a regularized model on the training data\n",
    "2. Test the trained model on the validation set; select the model with lowest $\\alpha$\n",
    "3. Calculate the error on the test data; this is our final prediction for how well our model performs on new data"
   ]
  },
  {
   "cell_type": "markdown",
   "metadata": {},
   "source": [
    "#### <span style=\"color:red\">Validation Set Cross Validation Exercise</span>\n",
    "1. Partner up.  On one computer:\n",
    "  1. Write a function with the call signature `validation_set_error(model, x_train, y_train, validation_portion=0.1, seed=1234)` which returns the validation set estimate of the future error for the given `model`. This function should:\n",
    "    1. Split the data into a reduced training set and a validation set\n",
    "    1. Train on the reduced training set\n",
    "    1. Estimate the mean squared error on the validation set\n",
    "    1. Return that estimate\n",
    "  1. Use your `calc_train_and_test_error(model, x_train, y_train, x_test, y_test)` function to calculate training and test set errors for these \n",
    "  1. Use this your `validation_set_error` function to estimate the future error on the overfitting data for:\n",
    "    1. A linear regression model\n",
    "    1. A ridge regression models with `alpha` = 10\n",
    "  1. Do this for multiple random seeds\n",
    "  1. Does validation error do a good job of predicting test error?\n",
    "  1. If you have time: How does changing the validation_portion affect the similarity between the validation and test error?\n"
   ]
  },
  {
   "cell_type": "code",
   "execution_count": null,
   "metadata": {
    "collapsed": false,
    "scrolled": true
   },
   "outputs": [],
   "source": [
    "# a helper function for performing validation set cross validation\n",
    "from sklearn.cross_validation import train_test_split\n",
    "validation_portion = 0.1\n",
    "seed = 1234\n",
    "x_train_small, x_valid, y_train_small, y_valid = \\\n",
    "    train_test_split(x_train, y_train, test_size=validation_portion, random_state=seed)\n",
    "\n",
    "print 'Original Training Set Size:'\n",
    "print x_train.shape, y_train.shape\n",
    "print\n",
    "\n",
    "print 'Reducted Training Set Size:'\n",
    "print x_train_small.shape, y_train_small.shape\n",
    "print\n",
    "\n",
    "print 'Validation Set Size:'\n",
    "print x_valid.shape, y_valid.shape\n",
    "print\n"
   ]
  },
  {
   "cell_type": "code",
   "execution_count": null,
   "metadata": {
    "collapsed": false
   },
   "outputs": [],
   "source": [
    "def validation_set_error(model, x_train, y_train, validation_portion=0.1, seed=1234):\n",
    "    ########## TODO REMOVE ME\n",
    "    ########## TODO REMOVE ME\n",
    "    ########## TODO REMOVE ME\n",
    "    ########## TODO REMOVE ME\n",
    "    ########## TODO REMOVE ME\n",
    "    ########## TODO REMOVE ME\n",
    "    ########## TODO REMOVE ME\n",
    "\n",
    "    x_train_small, x_valid, y_train_small, y_valid = \\\n",
    "        train_test_split(x_train, y_train, test_size=validation_portion, random_state=seed)\n",
    "    model.fit(x_train_small, y_train_small)\n",
    "    y_pred_valid = model.predict(x_valid)\n",
    "    return mean_squared_error(y_valid, y_pred_valid)\n",
    "    ########## TODO REMOVE ME\n",
    "    ########## TODO REMOVE ME\n",
    "    ########## TODO REMOVE ME\n",
    "    ########## TODO REMOVE ME\n",
    "    ########## TODO REMOVE ME\n",
    "    ########## TODO REMOVE ME\n",
    "    ########## TODO REMOVE ME\n",
    "    \n",
    "# set up models\n",
    "model_lr_valid = linear_model.LinearRegression()\n",
    "model_ridge_valid = linear_model.Ridge(alpha=10)\n",
    "\n",
    "# calculate errors\n",
    "valid_portion = .1\n",
    "n_seeds = 5\n",
    "print \"Linear Regression Training and Test Errors:\"\n",
    "########## TODO REMOVE ME\n",
    "########## TODO REMOVE ME\n",
    "########## TODO REMOVE ME\n",
    "########## TODO REMOVE ME\n",
    "########## TODO REMOVE ME\n",
    "########## TODO REMOVE ME\n",
    "########## TODO REMOVE ME\n",
    "print calc_train_and_test_error(model_lr_valid, x_train, y_train, x_test, y_test)\n",
    "########## TODO REMOVE ME\n",
    "########## TODO REMOVE ME\n",
    "########## TODO REMOVE ME\n",
    "########## TODO REMOVE ME\n",
    "########## TODO REMOVE ME\n",
    "########## TODO REMOVE ME\n",
    "########## TODO REMOVE ME\n",
    "\n",
    "print\n",
    "print \"Linear Regression Validation Errors:\"\n",
    "########## TODO REMOVE ME\n",
    "########## TODO REMOVE ME\n",
    "########## TODO REMOVE ME\n",
    "########## TODO REMOVE ME\n",
    "########## TODO REMOVE ME\n",
    "########## TODO REMOVE ME\n",
    "########## TODO REMOVE ME\n",
    "for seed in range(n_seeds):\n",
    "    print validation_set_error(model_lr_valid, x_train, y_train, validation_portion=valid_portion, seed=seed)\n",
    "    print\n",
    "########## TODO REMOVE ME\n",
    "########## TODO REMOVE ME\n",
    "########## TODO REMOVE ME\n",
    "########## TODO REMOVE ME\n",
    "########## TODO REMOVE ME\n",
    "########## TODO REMOVE ME\n",
    "########## TODO REMOVE ME\n",
    "\n",
    "print \"Ridge Regression Training and Test Errors:\"\n",
    "########## TODO REMOVE ME\n",
    "########## TODO REMOVE ME\n",
    "########## TODO REMOVE ME\n",
    "########## TODO REMOVE ME\n",
    "########## TODO REMOVE ME\n",
    "########## TODO REMOVE ME\n",
    "########## TODO REMOVE ME\n",
    "print calc_train_and_test_error(model_ridge_valid, x_train, y_train, x_test, y_test)\n",
    "########## TODO REMOVE ME\n",
    "########## TODO REMOVE ME\n",
    "########## TODO REMOVE ME\n",
    "########## TODO REMOVE ME\n",
    "########## TODO REMOVE ME\n",
    "########## TODO REMOVE ME\n",
    "########## TODO REMOVE ME\n",
    "\n",
    "print\n",
    "print \"Ridge Regression Validation Errors:\"\n",
    "########## TODO REMOVE ME\n",
    "########## TODO REMOVE ME\n",
    "########## TODO REMOVE ME\n",
    "########## TODO REMOVE ME\n",
    "########## TODO REMOVE ME\n",
    "########## TODO REMOVE ME\n",
    "########## TODO REMOVE ME\n",
    "for seed in range(n_seeds):\n",
    "    print validation_set_error(model_ridge_valid, x_train, y_train, validation_portion=valid_portion, seed=seed)\n",
    "    print\n",
    "########## TODO REMOVE ME\n",
    "########## TODO REMOVE ME\n",
    "########## TODO REMOVE ME\n",
    "########## TODO REMOVE ME\n",
    "########## TODO REMOVE ME\n",
    "########## TODO REMOVE ME\n",
    "########## TODO REMOVE ME"
   ]
  },
  {
   "cell_type": "markdown",
   "metadata": {},
   "source": [
    "### K-Fold Cross Validation\n",
    "K-Fold cross validation is another cross validation method for estimating the out-of-sample error of a model.  It works like this:\n",
    "\n",
    "1. Partition the training data into K folds\n",
    "2. For each fold k in 1 to K:\n",
    "  1. Train the model on all your data except the data in fold k\n",
    "  2. Record the error on the the data in fold k\n",
    "3. Estimate future error as average error across all folds"
   ]
  },
  {
   "cell_type": "code",
   "execution_count": null,
   "metadata": {
    "collapsed": false
   },
   "outputs": [],
   "source": [
    "Image(url='https://chrisjmccormick.files.wordpress.com/2013/07/10_fold_cv.png')"
   ]
  },
  {
   "cell_type": "markdown",
   "metadata": {},
   "source": [
    "* **Good:** Only wastes 100/k% of the data at a time\n",
    "* **Bad:** Takes k times long as just training one model, still wastes 100/k% of the data"
   ]
  },
  {
   "cell_type": "code",
   "execution_count": null,
   "metadata": {
    "collapsed": false
   },
   "outputs": [],
   "source": [
    "# scikit learn provides a useful object to help you perform kfold cross validation\n",
    "from sklearn.cross_validation import KFold\n",
    "\n",
    "n_data = len(y_train)\n",
    "fold_count = 0\n",
    "for train_reduced_row_ids, valid_row_ids in KFold(n_data, n_folds=4):\n",
    "    print\n",
    "    print \n",
    "    print \"FOLD %d:\" % fold_count\n",
    "    print \"-------\"\n",
    "    print(\"train_ids:\\n%s\\n\\nvalid_ids\\n%s\" % (train_reduced_row_ids, valid_row_ids))\n",
    "    x_train_reduced = x_train[train_reduced_row_ids]\n",
    "    y_train_reduced = y_train[train_reduced_row_ids]\n",
    "    x_valid = x_train[valid_row_ids]\n",
    "    y_valid = y_train[valid_row_ids]\n",
    "    fold_count += 1"
   ]
  },
  {
   "cell_type": "code",
   "execution_count": null,
   "metadata": {
    "collapsed": false
   },
   "outputs": [],
   "source": [
    "# NOTE: KFolds isn't random at all.  It's important to shuffle your data first before using it. \n",
    "from sklearn.utils import shuffle\n",
    "x_train_shuffled, y_train_shuffled = shuffle(x_train, y_train)"
   ]
  },
  {
   "cell_type": "markdown",
   "metadata": {},
   "source": [
    "#### <span style=\"color:red\">K-Fold Cross Validation Exercise</span>\n",
    "1. Partner up.  On one computer:\n",
    "  1. Write a function with the call signature `kfold_error(model, x_train, y_train, k=4, seed=1234)` which returns the k-fold cross validation estimate of the future error for the given `model`. This function should:\n",
    "    1. Shuffle the training data set (both $\\mathbf{x}$ and  $\\mathbf{y}$ in unison)\n",
    "    1. For each fold:\n",
    "        1. Split the data into a reduced training set and a validation set\n",
    "        1. Train on the reduced training set\n",
    "        1. Estimate the mean squared error on the validation set\n",
    "        1. Add the estimated error to a running sum of the estimated total error\n",
    "    1. Return the average error across folds: i.e.: the estimated total error divided by the number of folds\n",
    "  1. Use your `calc_train_and_test_error(model, x_train, y_train, x_test, y_test)` function to calculate training and test set errors for these \n",
    "  1. Use your `kfold_error` function with k=5 to estimate the future error on the overfitting data for:\n",
    "    1. A linear regression model\n",
    "    1. A ridge regression models with `alpha` = 10\n",
    "  1. Do this for multiple random seeds\n",
    "  1. Does k-fold error do a good job of predicting test error?"
   ]
  },
  {
   "cell_type": "code",
   "execution_count": null,
   "metadata": {
    "collapsed": false
   },
   "outputs": [],
   "source": [
    "def kfold_error(model, x_train, y_train, k=4, seed=1234):\n",
    "    ########## TODO REMOVE ME\n",
    "    ########## TODO REMOVE ME\n",
    "    ########## TODO REMOVE ME\n",
    "    ########## TODO REMOVE ME\n",
    "    ########## TODO REMOVE ME\n",
    "    ########## TODO REMOVE ME\n",
    "    ########## TODO REMOVE ME\n",
    "\n",
    "    # shuffle training data\n",
    "    x_train_shuffled, y_train_shuffled = shuffle(x_train, y_train, random_state=seed)\n",
    "\n",
    "    total_error = 0\n",
    "    \n",
    "    n_data = len(y_train)\n",
    "    for train_reduced_row_ids, valid_row_ids in KFold(n_data, n_folds=k):\n",
    "        x_train_reduced = x_train_shuffled[train_reduced_row_ids]\n",
    "        y_train_reduced = y_train_shuffled[train_reduced_row_ids]\n",
    "        x_valid = x_train_shuffled[valid_row_ids]\n",
    "        y_valid = y_train_shuffled[valid_row_ids]\n",
    "    \n",
    "        model.fit(x_train_reduced, y_train_reduced)\n",
    "        y_pred_valid = model.predict(x_valid)\n",
    "        total_error += mean_squared_error(y_valid, y_pred_valid)\n",
    "\n",
    "    return total_error / k\n",
    "    ########## TODO REMOVE ME\n",
    "    ########## TODO REMOVE ME\n",
    "    ########## TODO REMOVE ME\n",
    "    ########## TODO REMOVE ME\n",
    "    ########## TODO REMOVE ME\n",
    "    ########## TODO REMOVE ME\n",
    "    ########## TODO REMOVE ME   \n",
    "    \n",
    "# set up models\n",
    "model_lr_valid = linear_model.LinearRegression()\n",
    "model_ridge_valid = linear_model.Ridge(alpha=10)\n",
    "\n",
    "# calculate errors\n",
    "n_seeds = 3\n",
    "k = 5\n",
    "\n",
    "print \"Linear Regression Training and Test Errors:\"\n",
    "########## TODO REMOVE ME\n",
    "########## TODO REMOVE ME\n",
    "########## TODO REMOVE ME\n",
    "########## TODO REMOVE ME\n",
    "########## TODO REMOVE ME\n",
    "########## TODO REMOVE ME\n",
    "########## TODO REMOVE ME\n",
    "print calc_train_and_test_error(model_lr_valid, x_train, y_train, x_test, y_test)\n",
    "########## TODO REMOVE ME\n",
    "########## TODO REMOVE ME\n",
    "########## TODO REMOVE ME\n",
    "########## TODO REMOVE ME\n",
    "########## TODO REMOVE ME\n",
    "########## TODO REMOVE ME\n",
    "########## TODO REMOVE ME\n",
    "\n",
    "print\n",
    "print \"Linear Regression K-Fold Errors:\"\n",
    "########## TODO REMOVE ME\n",
    "########## TODO REMOVE ME\n",
    "########## TODO REMOVE ME\n",
    "########## TODO REMOVE ME\n",
    "########## TODO REMOVE ME\n",
    "########## TODO REMOVE ME\n",
    "########## TODO REMOVE ME\n",
    "for seed in range(n_seeds):\n",
    "    print kfold_error(model_lr_valid, x_train, y_train, k=k, seed=seed)\n",
    "    print\n",
    "########## TODO REMOVE ME\n",
    "########## TODO REMOVE ME\n",
    "########## TODO REMOVE ME\n",
    "########## TODO REMOVE ME\n",
    "########## TODO REMOVE ME\n",
    "########## TODO REMOVE ME\n",
    "########## TODO REMOVE ME\n",
    "\n",
    "print\n",
    "print \"Ridge Regression Training and Test Errors:\"\n",
    "########## TODO REMOVE ME\n",
    "########## TODO REMOVE ME\n",
    "########## TODO REMOVE ME\n",
    "########## TODO REMOVE ME\n",
    "########## TODO REMOVE ME\n",
    "########## TODO REMOVE ME\n",
    "########## TODO REMOVE ME\n",
    "print calc_train_and_test_error(model_ridge_valid, x_train, y_train, x_test, y_test)\n",
    "########## TODO REMOVE ME\n",
    "########## TODO REMOVE ME\n",
    "########## TODO REMOVE ME\n",
    "########## TODO REMOVE ME\n",
    "########## TODO REMOVE ME\n",
    "########## TODO REMOVE ME\n",
    "########## TODO REMOVE ME\n",
    "\n",
    "print\n",
    "print \"Ridge Regression K-Fold Errors:\"\n",
    "########## TODO REMOVE ME\n",
    "########## TODO REMOVE ME\n",
    "########## TODO REMOVE ME\n",
    "########## TODO REMOVE ME\n",
    "########## TODO REMOVE ME\n",
    "########## TODO REMOVE ME\n",
    "########## TODO REMOVE ME\n",
    "for seed in range(n_seeds):\n",
    "    print kfold_error(model_ridge_valid, x_train, y_train, k=k, seed=seed)\n",
    "    print    \n",
    "########## TODO REMOVE ME\n",
    "########## TODO REMOVE ME\n",
    "########## TODO REMOVE ME\n",
    "########## TODO REMOVE ME\n",
    "########## TODO REMOVE ME\n",
    "########## TODO REMOVE ME\n",
    "########## TODO REMOVE ME"
   ]
  },
  {
   "cell_type": "markdown",
   "metadata": {},
   "source": [
    "## Putting It All Together: Model and Hyperparameter Selection with Cross Validation\n",
    "1. For each model and hyperparameter combo you're willing to consider:\n",
    "  1. Estimate the model's performance on future data using cross validation\n",
    "2. Pick the model with the best estimated future performance\n",
    "3. Train the best model from scratch on the full dataset.  This is your final model"
   ]
  },
  {
   "cell_type": "code",
   "execution_count": null,
   "metadata": {
    "collapsed": false
   },
   "outputs": [],
   "source": [
    "def model_name(model):\n",
    "    s = model.__str__().lower()\n",
    "    if \"linearregression\" in s:\n",
    "        return 'LinearRegression'\n",
    "    elif \"lasso\" in s:\n",
    "        return 'Lasso(a=%g)' % model.alpha\n",
    "    elif \"ridge\" in s:\n",
    "        return 'Ridge(a=%g)' % model.alpha\n",
    "    elif \"elastic\" in s:\n",
    "        return 'ElasticNet(a=%g, r=%g)' % (model.alpha, model.l1_ratio)\n",
    "    else:\n",
    "        raise ValueError(\"Unknown Model Type\")\n",
    "\n",
    "def create_models(alphas=(.01, .03, .1, .3, 1, 3), l1_ratios=(.7, .5, .3)):\n",
    "    models = [linear_model.LinearRegression()]\n",
    "    models.extend([linear_model.Ridge(a) for a in alphas])\n",
    "    models.extend([linear_model.Lasso(a) for a in alphas])\n",
    "    models.extend([linear_model.ElasticNet(a, l1_ratio=l) for a in alphas for l in l1_ratios])\n",
    "    return models\n",
    "\n",
    "def results_df(models, betas_true, x_train, y_train, x_test, y_test, k=4):\n",
    "    n_data, n_dim = x_train.shape\n",
    "\n",
    "    n_zeros = n_dim - len(betas_true)\n",
    "    \n",
    "    betas_true = np.concatenate([betas_true, np.zeros(n_zeros)])\n",
    "    \n",
    "    # fit models to training data\n",
    "    [m.fit(x_train, y_train) for m in models]\n",
    "    \n",
    "    betas = np.vstack([betas_true] + [m.coef_ for m in models])\n",
    "    beta_names = ['Beta ' + str(i) for i in range(n_dim)]\n",
    "\n",
    "    # set up model names\n",
    "    model_names =  [\"True Coefs\"] + [model_name(m) for m in models]\n",
    "    df = pd.DataFrame(data=betas, columns=beta_names, index=model_names)\n",
    "\n",
    "    # calculate training errors\n",
    "    y_preds = [m.predict(x_train) for m in models]\n",
    "    errors = [np.nan] + [mean_squared_error(y_train, y_pred) for y_pred in y_preds]\n",
    "    df['Train Error'] = errors\n",
    "\n",
    "    # calculate validation errors\n",
    "    errors = [np.nan] + [kfold_error(m, x_train, y_train, k=k) for m in models]\n",
    "    df['Cross Validation Error'] = errors\n",
    "\n",
    "    # calculate test errors\n",
    "    y_preds = [m.predict(x_test) for m in models]\n",
    "    errors = [np.nan] + [mean_squared_error(y_test, y_pred) for y_pred in y_preds]\n",
    "    df['Test Error'] = errors\n",
    "\n",
    "    return df\n",
    "\n",
    "\n",
    "# these are some of the magic parameters that I used to actually \n",
    "# generate the overfitting dataset\n",
    "n_dim = 598\n",
    "n_dim_meaningful = 3\n",
    "n_dim_disp_extra = 2\n",
    "\n",
    "# the actual betas used to generate the y values.  the rest were 0.\n",
    "betas_true = np.arange(n_dim_meaningful) + 1\n",
    "\n",
    "# create a whole bunch of untrained models\n",
    "models = create_models(alphas=(.01, .03, .1, .3, 1), l1_ratios=(.9, .7, .5))\n",
    "\n",
    "# \n",
    "all_results = results_df(models, betas_true, x_train, y_train, x_test, y_test, k=4)\n",
    "\n",
    "# decide which columns we want to display\n",
    "disp_cols = [\"Beta \" + str(i) for i in range(n_dim_meaningful + n_dim_disp_extra)] \n",
    "disp_cols += ['Train Error', 'Cross Validation Error', 'Test Error']\n",
    "\n",
    "# display the results\n",
    "all_results[disp_cols]"
   ]
  },
  {
   "cell_type": "code",
   "execution_count": null,
   "metadata": {
    "collapsed": false
   },
   "outputs": [],
   "source": [
    "%matplotlib inline\n",
    "import matplotlib.pyplot as plt\n",
    "f = plt.figure()\n",
    "plt.scatter(all_results['Cross Validation Error'], all_results['Test Error'])\n",
    "plt.xlabel('Cross Validation Error')\n",
    "plt.ylabel('Test Error')\n",
    "f.set_size_inches(8, 8)\n",
    "plt.show()"
   ]
  },
  {
   "cell_type": "code",
   "execution_count": null,
   "metadata": {
    "collapsed": false
   },
   "outputs": [],
   "source": [
    "# scikit learn includes some functions for making cross validation easier \n",
    "# and computationally faster for a some models\n",
    "from sklearn import linear_model\n",
    "model_ridge_cv = linear_model.RidgeCV(alphas=[0.1, 1.0, 10.0])\n",
    "model_lasso_cv = linear_model.LassoCV(alphas=[0.1, 1.0, 10.0])\n",
    "model_en_cv = linear_model.ElasticNetCV(l1_ratio=[.9], n_alphas=100)"
   ]
  },
  {
   "cell_type": "markdown",
   "metadata": {},
   "source": [
    "## Caveats:\n",
    "* You can still overfit with intensive cross validation based model selection!\n",
    "* But it's much better than without"
   ]
  },
  {
   "cell_type": "markdown",
   "metadata": {},
   "source": [
    "## Summary:\n",
    "* **The Central Theses of Machine Learning:** \n",
    "  * We're only interested in predictive performance on unseen data, not on seen data.\n",
    "  * **Training error** estimates error on **seen** data\n",
    "  * **Cross validation error** estimates error on **unseen** data\n",
    "* **Regularization** strategies change how to train a model so that it will perform better on unseen data\n",
    "* We talked about three forms of regularization for linear regression:\n",
    "  * **Ridge Regression** (L2 Penalty)\n",
    "  * **LASSO** (L1 Penalty)\n",
    "  * **ElasticNet** (L1 + L2 Penalties)\n",
    "* We talked about two kinds of cross validation error:\n",
    "  * **Validation Error** -- split your training set into a reduced training set and a validation set\n",
    "  * **K-Fold Error** -- Split your training data into k reduced training sets and a validation sets\n",
    "* Regularization introduces new hyperparameters\n",
    "* Use a cross validated estimate of future performance to choose your model and hyperparameter settings"
   ]
  }
 ],
 "metadata": {
  "kernelspec": {
   "display_name": "Python 2",
   "language": "python",
   "name": "python2"
  },
  "language_info": {
   "codemirror_mode": {
    "name": "ipython",
    "version": 2
   },
   "file_extension": ".py",
   "mimetype": "text/x-python",
   "name": "python",
   "nbconvert_exporter": "python",
   "pygments_lexer": "ipython2",
   "version": "2.7.11"
  }
 },
 "nbformat": 4,
 "nbformat_minor": 0
}
