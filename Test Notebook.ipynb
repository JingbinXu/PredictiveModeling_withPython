{
 "cells": [
  {
   "cell_type": "markdown",
   "metadata": {},
   "source": [
    "Click into the grey part of the following cell, then run it by clicking \"Cell >> Run\" or the play button up above."
   ]
  },
  {
   "cell_type": "code",
   "execution_count": 11,
   "metadata": {
    "collapsed": false
   },
   "outputs": [
    {
     "name": "stdout",
     "output_type": "stream",
     "text": [
      "python version:\t\t2.7\n",
      "numpy:\t\t\t1.11.3\n",
      "scipy:\t\t\t0.18.1\n",
      "pandas:\t\t\t0.19.2\n",
      "sklearn:\t\t0.18.1\n"
     ]
    }
   ],
   "source": [
    "import sys; print 'python version:\\t\\t', sys.version[:3]\n",
    "import numpy;   print 'numpy:\\t\\t\\t', numpy.__version__\n",
    "import scipy;   print 'scipy:\\t\\t\\t', scipy.__version__\n",
    "import pandas;  print 'pandas:\\t\\t\\t', pandas.__version__\n",
    "import sklearn; print 'sklearn:\\t\\t', sklearn.__version__"
   ]
  },
  {
   "cell_type": "markdown",
   "metadata": {},
   "source": [
    "The output should be something like this:\n",
    "\n",
    "`\n",
    "python: \n",
    "numpy: 1.10.4\n",
    "scipy: 0.17.0\n",
    "pandas: 0.18.0\n",
    "sklearn: 0.17.1\n",
    "`\n",
    "\n",
    "If it isn't, raise your hand."
   ]
  },
  {
   "cell_type": "code",
   "execution_count": null,
   "metadata": {
    "collapsed": true
   },
   "outputs": [],
   "source": []
  }
 ],
 "metadata": {
  "kernelspec": {
   "display_name": "Python 2",
   "language": "python",
   "name": "python2"
  },
  "language_info": {
   "codemirror_mode": {
    "name": "ipython",
    "version": 2
   },
   "file_extension": ".py",
   "mimetype": "text/x-python",
   "name": "python",
   "nbconvert_exporter": "python",
   "pygments_lexer": "ipython2",
   "version": "2.7.13"
  }
 },
 "nbformat": 4,
 "nbformat_minor": 0
}
