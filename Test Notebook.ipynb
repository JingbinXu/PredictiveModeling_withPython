{
 "cells": [
  {
   "cell_type": "markdown",
   "metadata": {},
   "source": [
    "Click into the grey part of the following cell, then run it by clicking \"Cell >> Run\" or the play button up above."
   ]
  },
  {
   "cell_type": "code",
   "execution_count": 2,
   "metadata": {
    "collapsed": false
   },
   "outputs": [
    {
     "name": "stdout",
     "output_type": "stream",
     "text": [
      "python:\t\t\t2.7\n",
      "modules:\n",
      "\tnumpy:\t\t1.11.1\n",
      "\tscipy:\t\t0.18.1\n",
      "\tpandas:\t\t0.18.1\n",
      "\tsklearn:\t0.17.1\n"
     ]
    }
   ],
   "source": [
    "import sys; print 'python:\\t\\t\\t', str(sys.version_info[0]) + '.' + str(sys.version_info[1])\n",
    "print 'modules:'\n",
    "import numpy;   print '\\tnumpy:\\t\\t', numpy.__version__\n",
    "import scipy;   print '\\tscipy:\\t\\t', scipy.__version__\n",
    "import pandas;  print '\\tpandas:\\t\\t', pandas.__version__\n",
    "import sklearn; print '\\tsklearn:\\t', sklearn.__version__"
   ]
  },
  {
   "cell_type": "markdown",
   "metadata": {},
   "source": [
    "The output should be something like this:\n",
    "\n",
    "`\n",
    "python:2.7\n",
    "modules:\n",
    "    numpy:\t\t1.11.1\n",
    "    scipy:\t\t0.18.1\n",
    "    pandas:\t\t0.18.1\n",
    "    sklearn:\t0.17.1\n",
    "`\n",
    "\n",
    "If it isn't, raise your hand."
   ]
  }
 ],
 "metadata": {
  "anaconda-cloud": {},
  "kernelspec": {
   "display_name": "Python [default]",
   "language": "python",
   "name": "python2"
  },
  "language_info": {
   "codemirror_mode": {
    "name": "ipython",
    "version": 2
   },
   "file_extension": ".py",
   "mimetype": "text/x-python",
   "name": "python",
   "nbconvert_exporter": "python",
   "pygments_lexer": "ipython2",
   "version": "2.7.12"
  }
 },
 "nbformat": 4,
 "nbformat_minor": 0
}
